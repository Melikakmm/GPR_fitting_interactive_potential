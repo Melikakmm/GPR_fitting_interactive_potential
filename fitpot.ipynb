{
  "cells": [
    {
      "cell_type": "markdown",
      "metadata": {
        "id": "view-in-github",
        "colab_type": "text"
      },
      "source": [
        "<a href=\"https://colab.research.google.com/github/Melikakmm/GPR_fitting_interactive_potential/blob/main/fitpot.ipynb\" target=\"_parent\"><img src=\"https://colab.research.google.com/assets/colab-badge.svg\" alt=\"Open In Colab\"/></a>"
      ]
    },
    {
      "cell_type": "markdown",
      "metadata": {
        "nbgrader": {
          "grade": false,
          "grade_id": "cell-77ac8cba783beb33",
          "locked": true,
          "schema_version": 3,
          "solution": false,
          "task": false
        },
        "id": "AthWPoKVNG19"
      },
      "source": [
        "# Gaussian Process regression for fitting interatomic potentials\n",
        "\n",
        "## Workshop Aims\n",
        "* Data representation using invariant descriptors\n",
        "* Building covariance matrices for derived quantities - learning from total energy data\n",
        "* Uncertainty analysis of predicted energy values\n",
        "* Optimising hyperparameters\n",
        "* Relaxing geometry using a machine learned potential\n",
        "\n"
      ]
    },
    {
      "cell_type": "code",
      "execution_count": 3,
      "metadata": {
        "id": "XvfFgVaZNG1_"
      },
      "outputs": [],
      "source": [
        "!alias gcc='gcc-11'\n",
        "!alias cc='gcc-11'\n",
        "!alias g++='g++-11'\n",
        "!alias c++='c++-11'"
      ]
    },
    {
      "cell_type": "code",
      "execution_count": 1,
      "metadata": {
        "colab": {
          "base_uri": "https://localhost:8080/"
        },
        "id": "ha1Q9lGuNG2A",
        "outputId": "0f6871a3-ee44-4e86-e4a1-dcf0b7f0468b"
      },
      "outputs": [
        {
          "output_type": "stream",
          "name": "stdout",
          "text": [
            "Collecting GPy\n",
            "  Downloading GPy-1.10.0.tar.gz (959 kB)\n",
            "\u001b[2K     \u001b[90m━━━━━━━━━━━━━━━━━━━━━━━━━━━━━━━━━━━━━━\u001b[0m \u001b[32m959.4/959.4 kB\u001b[0m \u001b[31m12.2 MB/s\u001b[0m eta \u001b[36m0:00:00\u001b[0m\n",
            "\u001b[?25h  Preparing metadata (setup.py) ... \u001b[?25l\u001b[?25hdone\n",
            "Requirement already satisfied: numpy>=1.7 in /usr/local/lib/python3.10/dist-packages (from GPy) (1.23.5)\n",
            "Requirement already satisfied: six in /usr/local/lib/python3.10/dist-packages (from GPy) (1.16.0)\n",
            "Collecting paramz>=0.9.0 (from GPy)\n",
            "  Downloading paramz-0.9.5.tar.gz (71 kB)\n",
            "\u001b[2K     \u001b[90m━━━━━━━━━━━━━━━━━━━━━━━━━━━━━━━━━━━━━━━━\u001b[0m \u001b[32m71.3/71.3 kB\u001b[0m \u001b[31m7.8 MB/s\u001b[0m eta \u001b[36m0:00:00\u001b[0m\n",
            "\u001b[?25h  Preparing metadata (setup.py) ... \u001b[?25l\u001b[?25hdone\n",
            "Requirement already satisfied: cython>=0.29 in /usr/local/lib/python3.10/dist-packages (from GPy) (0.29.36)\n",
            "Requirement already satisfied: scipy>=1.3.0 in /usr/local/lib/python3.10/dist-packages (from GPy) (1.10.1)\n",
            "Requirement already satisfied: decorator>=4.0.10 in /usr/local/lib/python3.10/dist-packages (from paramz>=0.9.0->GPy) (4.4.2)\n",
            "Building wheels for collected packages: GPy, paramz\n",
            "  Building wheel for GPy (setup.py) ... \u001b[?25l\u001b[?25hdone\n",
            "  Created wheel for GPy: filename=GPy-1.10.0-cp310-cp310-linux_x86_64.whl size=3211196 sha256=f477d774a5f7a746129c671a8d0a29cc516f2200b1e81f3f92878127e9bbe25d\n",
            "  Stored in directory: /root/.cache/pip/wheels/27/bd/9f/82ab4216eae088cba864ca0dc1d75699bd4bf6823790fb2f77\n",
            "  Building wheel for paramz (setup.py) ... \u001b[?25l\u001b[?25hdone\n",
            "  Created wheel for paramz: filename=paramz-0.9.5-py3-none-any.whl size=102544 sha256=ac771c85c9e62ed19a93992788bdc3d130fc846e972b6d686e6fa1c49284cd64\n",
            "  Stored in directory: /root/.cache/pip/wheels/d2/ef/9c/da9ceef7d0ff5287c24365844fc394852c2b79ac3fcf33bf8b\n",
            "Successfully built GPy paramz\n",
            "Installing collected packages: paramz, GPy\n",
            "Successfully installed GPy-1.10.0 paramz-0.9.5\n"
          ]
        }
      ],
      "source": [
        "pip install GPy"
      ]
    },
    {
      "cell_type": "code",
      "source": [
        "pip install ase"
      ],
      "metadata": {
        "colab": {
          "base_uri": "https://localhost:8080/"
        },
        "id": "30JyNA_COBs3",
        "outputId": "878d1dc3-976a-4095-e892-048ebd894cd3"
      },
      "execution_count": 2,
      "outputs": [
        {
          "output_type": "stream",
          "name": "stdout",
          "text": [
            "Collecting ase\n",
            "  Downloading ase-3.22.1-py3-none-any.whl (2.2 MB)\n",
            "\u001b[2K     \u001b[90m━━━━━━━━━━━━━━━━━━━━━━━━━━━━━━━━━━━━━━━━\u001b[0m \u001b[32m2.2/2.2 MB\u001b[0m \u001b[31m17.0 MB/s\u001b[0m eta \u001b[36m0:00:00\u001b[0m\n",
            "\u001b[?25hRequirement already satisfied: matplotlib>=3.1.0 in /usr/local/lib/python3.10/dist-packages (from ase) (3.7.1)\n",
            "Requirement already satisfied: numpy>=1.15.0 in /usr/local/lib/python3.10/dist-packages (from ase) (1.23.5)\n",
            "Requirement already satisfied: scipy>=1.1.0 in /usr/local/lib/python3.10/dist-packages (from ase) (1.10.1)\n",
            "Requirement already satisfied: contourpy>=1.0.1 in /usr/local/lib/python3.10/dist-packages (from matplotlib>=3.1.0->ase) (1.1.0)\n",
            "Requirement already satisfied: cycler>=0.10 in /usr/local/lib/python3.10/dist-packages (from matplotlib>=3.1.0->ase) (0.11.0)\n",
            "Requirement already satisfied: fonttools>=4.22.0 in /usr/local/lib/python3.10/dist-packages (from matplotlib>=3.1.0->ase) (4.42.1)\n",
            "Requirement already satisfied: kiwisolver>=1.0.1 in /usr/local/lib/python3.10/dist-packages (from matplotlib>=3.1.0->ase) (1.4.4)\n",
            "Requirement already satisfied: packaging>=20.0 in /usr/local/lib/python3.10/dist-packages (from matplotlib>=3.1.0->ase) (23.1)\n",
            "Requirement already satisfied: pillow>=6.2.0 in /usr/local/lib/python3.10/dist-packages (from matplotlib>=3.1.0->ase) (9.4.0)\n",
            "Requirement already satisfied: pyparsing>=2.3.1 in /usr/local/lib/python3.10/dist-packages (from matplotlib>=3.1.0->ase) (3.1.1)\n",
            "Requirement already satisfied: python-dateutil>=2.7 in /usr/local/lib/python3.10/dist-packages (from matplotlib>=3.1.0->ase) (2.8.2)\n",
            "Requirement already satisfied: six>=1.5 in /usr/local/lib/python3.10/dist-packages (from python-dateutil>=2.7->matplotlib>=3.1.0->ase) (1.16.0)\n",
            "Installing collected packages: ase\n",
            "Successfully installed ase-3.22.1\n"
          ]
        }
      ]
    },
    {
      "cell_type": "code",
      "source": [
        "pip install nglview"
      ],
      "metadata": {
        "colab": {
          "base_uri": "https://localhost:8080/"
        },
        "id": "I3_vKBnWOLn_",
        "outputId": "8ebefbfa-e672-46c0-d136-758f2f879310"
      },
      "execution_count": 3,
      "outputs": [
        {
          "output_type": "stream",
          "name": "stdout",
          "text": [
            "Collecting nglview\n",
            "  Downloading nglview-3.0.7.tar.gz (6.7 MB)\n",
            "\u001b[2K     \u001b[90m━━━━━━━━━━━━━━━━━━━━━━━━━━━━━━━━━━━━━━━━\u001b[0m \u001b[32m6.7/6.7 MB\u001b[0m \u001b[31m40.7 MB/s\u001b[0m eta \u001b[36m0:00:00\u001b[0m\n",
            "\u001b[?25h  Installing build dependencies ... \u001b[?25l\u001b[?25hdone\n",
            "  Getting requirements to build wheel ... \u001b[?25l\u001b[?25hdone\n",
            "  Preparing metadata (pyproject.toml) ... \u001b[?25l\u001b[?25hdone\n",
            "Requirement already satisfied: ipywidgets>=7 in /usr/local/lib/python3.10/dist-packages (from nglview) (7.7.1)\n",
            "Requirement already satisfied: jupyterlab-widgets in /usr/local/lib/python3.10/dist-packages (from nglview) (3.0.8)\n",
            "Requirement already satisfied: numpy in /usr/local/lib/python3.10/dist-packages (from nglview) (1.23.5)\n",
            "Requirement already satisfied: ipykernel>=4.5.1 in /usr/local/lib/python3.10/dist-packages (from ipywidgets>=7->nglview) (5.5.6)\n",
            "Requirement already satisfied: ipython-genutils~=0.2.0 in /usr/local/lib/python3.10/dist-packages (from ipywidgets>=7->nglview) (0.2.0)\n",
            "Requirement already satisfied: traitlets>=4.3.1 in /usr/local/lib/python3.10/dist-packages (from ipywidgets>=7->nglview) (5.7.1)\n",
            "Requirement already satisfied: widgetsnbextension~=3.6.0 in /usr/local/lib/python3.10/dist-packages (from ipywidgets>=7->nglview) (3.6.5)\n",
            "Requirement already satisfied: ipython>=4.0.0 in /usr/local/lib/python3.10/dist-packages (from ipywidgets>=7->nglview) (7.34.0)\n",
            "Requirement already satisfied: jupyter-client in /usr/local/lib/python3.10/dist-packages (from ipykernel>=4.5.1->ipywidgets>=7->nglview) (6.1.12)\n",
            "Requirement already satisfied: tornado>=4.2 in /usr/local/lib/python3.10/dist-packages (from ipykernel>=4.5.1->ipywidgets>=7->nglview) (6.3.2)\n",
            "Requirement already satisfied: setuptools>=18.5 in /usr/local/lib/python3.10/dist-packages (from ipython>=4.0.0->ipywidgets>=7->nglview) (67.7.2)\n",
            "Collecting jedi>=0.16 (from ipython>=4.0.0->ipywidgets>=7->nglview)\n",
            "  Downloading jedi-0.19.0-py2.py3-none-any.whl (1.6 MB)\n",
            "\u001b[2K     \u001b[90m━━━━━━━━━━━━━━━━━━━━━━━━━━━━━━━━━━━━━━━━\u001b[0m \u001b[32m1.6/1.6 MB\u001b[0m \u001b[31m53.1 MB/s\u001b[0m eta \u001b[36m0:00:00\u001b[0m\n",
            "\u001b[?25hRequirement already satisfied: decorator in /usr/local/lib/python3.10/dist-packages (from ipython>=4.0.0->ipywidgets>=7->nglview) (4.4.2)\n",
            "Requirement already satisfied: pickleshare in /usr/local/lib/python3.10/dist-packages (from ipython>=4.0.0->ipywidgets>=7->nglview) (0.7.5)\n",
            "Requirement already satisfied: prompt-toolkit!=3.0.0,!=3.0.1,<3.1.0,>=2.0.0 in /usr/local/lib/python3.10/dist-packages (from ipython>=4.0.0->ipywidgets>=7->nglview) (3.0.39)\n",
            "Requirement already satisfied: pygments in /usr/local/lib/python3.10/dist-packages (from ipython>=4.0.0->ipywidgets>=7->nglview) (2.16.1)\n",
            "Requirement already satisfied: backcall in /usr/local/lib/python3.10/dist-packages (from ipython>=4.0.0->ipywidgets>=7->nglview) (0.2.0)\n",
            "Requirement already satisfied: matplotlib-inline in /usr/local/lib/python3.10/dist-packages (from ipython>=4.0.0->ipywidgets>=7->nglview) (0.1.6)\n",
            "Requirement already satisfied: pexpect>4.3 in /usr/local/lib/python3.10/dist-packages (from ipython>=4.0.0->ipywidgets>=7->nglview) (4.8.0)\n",
            "Requirement already satisfied: notebook>=4.4.1 in /usr/local/lib/python3.10/dist-packages (from widgetsnbextension~=3.6.0->ipywidgets>=7->nglview) (6.5.5)\n",
            "Requirement already satisfied: parso<0.9.0,>=0.8.3 in /usr/local/lib/python3.10/dist-packages (from jedi>=0.16->ipython>=4.0.0->ipywidgets>=7->nglview) (0.8.3)\n",
            "Requirement already satisfied: jinja2 in /usr/local/lib/python3.10/dist-packages (from notebook>=4.4.1->widgetsnbextension~=3.6.0->ipywidgets>=7->nglview) (3.1.2)\n",
            "Requirement already satisfied: pyzmq<25,>=17 in /usr/local/lib/python3.10/dist-packages (from notebook>=4.4.1->widgetsnbextension~=3.6.0->ipywidgets>=7->nglview) (23.2.1)\n",
            "Requirement already satisfied: argon2-cffi in /usr/local/lib/python3.10/dist-packages (from notebook>=4.4.1->widgetsnbextension~=3.6.0->ipywidgets>=7->nglview) (23.1.0)\n",
            "Requirement already satisfied: jupyter-core>=4.6.1 in /usr/local/lib/python3.10/dist-packages (from notebook>=4.4.1->widgetsnbextension~=3.6.0->ipywidgets>=7->nglview) (5.3.1)\n",
            "Requirement already satisfied: nbformat in /usr/local/lib/python3.10/dist-packages (from notebook>=4.4.1->widgetsnbextension~=3.6.0->ipywidgets>=7->nglview) (5.9.2)\n",
            "Requirement already satisfied: nbconvert>=5 in /usr/local/lib/python3.10/dist-packages (from notebook>=4.4.1->widgetsnbextension~=3.6.0->ipywidgets>=7->nglview) (6.5.4)\n",
            "Requirement already satisfied: nest-asyncio>=1.5 in /usr/local/lib/python3.10/dist-packages (from notebook>=4.4.1->widgetsnbextension~=3.6.0->ipywidgets>=7->nglview) (1.5.7)\n",
            "Requirement already satisfied: Send2Trash>=1.8.0 in /usr/local/lib/python3.10/dist-packages (from notebook>=4.4.1->widgetsnbextension~=3.6.0->ipywidgets>=7->nglview) (1.8.2)\n",
            "Requirement already satisfied: terminado>=0.8.3 in /usr/local/lib/python3.10/dist-packages (from notebook>=4.4.1->widgetsnbextension~=3.6.0->ipywidgets>=7->nglview) (0.17.1)\n",
            "Requirement already satisfied: prometheus-client in /usr/local/lib/python3.10/dist-packages (from notebook>=4.4.1->widgetsnbextension~=3.6.0->ipywidgets>=7->nglview) (0.17.1)\n",
            "Requirement already satisfied: nbclassic>=0.4.7 in /usr/local/lib/python3.10/dist-packages (from notebook>=4.4.1->widgetsnbextension~=3.6.0->ipywidgets>=7->nglview) (1.0.0)\n",
            "Requirement already satisfied: python-dateutil>=2.1 in /usr/local/lib/python3.10/dist-packages (from jupyter-client->ipykernel>=4.5.1->ipywidgets>=7->nglview) (2.8.2)\n",
            "Requirement already satisfied: ptyprocess>=0.5 in /usr/local/lib/python3.10/dist-packages (from pexpect>4.3->ipython>=4.0.0->ipywidgets>=7->nglview) (0.7.0)\n",
            "Requirement already satisfied: wcwidth in /usr/local/lib/python3.10/dist-packages (from prompt-toolkit!=3.0.0,!=3.0.1,<3.1.0,>=2.0.0->ipython>=4.0.0->ipywidgets>=7->nglview) (0.2.6)\n",
            "Requirement already satisfied: platformdirs>=2.5 in /usr/local/lib/python3.10/dist-packages (from jupyter-core>=4.6.1->notebook>=4.4.1->widgetsnbextension~=3.6.0->ipywidgets>=7->nglview) (3.10.0)\n",
            "Requirement already satisfied: jupyter-server>=1.8 in /usr/local/lib/python3.10/dist-packages (from nbclassic>=0.4.7->notebook>=4.4.1->widgetsnbextension~=3.6.0->ipywidgets>=7->nglview) (1.24.0)\n",
            "Requirement already satisfied: notebook-shim>=0.2.3 in /usr/local/lib/python3.10/dist-packages (from nbclassic>=0.4.7->notebook>=4.4.1->widgetsnbextension~=3.6.0->ipywidgets>=7->nglview) (0.2.3)\n",
            "Requirement already satisfied: lxml in /usr/local/lib/python3.10/dist-packages (from nbconvert>=5->notebook>=4.4.1->widgetsnbextension~=3.6.0->ipywidgets>=7->nglview) (4.9.3)\n",
            "Requirement already satisfied: beautifulsoup4 in /usr/local/lib/python3.10/dist-packages (from nbconvert>=5->notebook>=4.4.1->widgetsnbextension~=3.6.0->ipywidgets>=7->nglview) (4.11.2)\n",
            "Requirement already satisfied: bleach in /usr/local/lib/python3.10/dist-packages (from nbconvert>=5->notebook>=4.4.1->widgetsnbextension~=3.6.0->ipywidgets>=7->nglview) (6.0.0)\n",
            "Requirement already satisfied: defusedxml in /usr/local/lib/python3.10/dist-packages (from nbconvert>=5->notebook>=4.4.1->widgetsnbextension~=3.6.0->ipywidgets>=7->nglview) (0.7.1)\n",
            "Requirement already satisfied: entrypoints>=0.2.2 in /usr/local/lib/python3.10/dist-packages (from nbconvert>=5->notebook>=4.4.1->widgetsnbextension~=3.6.0->ipywidgets>=7->nglview) (0.4)\n",
            "Requirement already satisfied: jupyterlab-pygments in /usr/local/lib/python3.10/dist-packages (from nbconvert>=5->notebook>=4.4.1->widgetsnbextension~=3.6.0->ipywidgets>=7->nglview) (0.2.2)\n",
            "Requirement already satisfied: MarkupSafe>=2.0 in /usr/local/lib/python3.10/dist-packages (from nbconvert>=5->notebook>=4.4.1->widgetsnbextension~=3.6.0->ipywidgets>=7->nglview) (2.1.3)\n",
            "Requirement already satisfied: mistune<2,>=0.8.1 in /usr/local/lib/python3.10/dist-packages (from nbconvert>=5->notebook>=4.4.1->widgetsnbextension~=3.6.0->ipywidgets>=7->nglview) (0.8.4)\n",
            "Requirement already satisfied: nbclient>=0.5.0 in /usr/local/lib/python3.10/dist-packages (from nbconvert>=5->notebook>=4.4.1->widgetsnbextension~=3.6.0->ipywidgets>=7->nglview) (0.8.0)\n",
            "Requirement already satisfied: packaging in /usr/local/lib/python3.10/dist-packages (from nbconvert>=5->notebook>=4.4.1->widgetsnbextension~=3.6.0->ipywidgets>=7->nglview) (23.1)\n",
            "Requirement already satisfied: pandocfilters>=1.4.1 in /usr/local/lib/python3.10/dist-packages (from nbconvert>=5->notebook>=4.4.1->widgetsnbextension~=3.6.0->ipywidgets>=7->nglview) (1.5.0)\n",
            "Requirement already satisfied: tinycss2 in /usr/local/lib/python3.10/dist-packages (from nbconvert>=5->notebook>=4.4.1->widgetsnbextension~=3.6.0->ipywidgets>=7->nglview) (1.2.1)\n",
            "Requirement already satisfied: fastjsonschema in /usr/local/lib/python3.10/dist-packages (from nbformat->notebook>=4.4.1->widgetsnbextension~=3.6.0->ipywidgets>=7->nglview) (2.18.0)\n",
            "Requirement already satisfied: jsonschema>=2.6 in /usr/local/lib/python3.10/dist-packages (from nbformat->notebook>=4.4.1->widgetsnbextension~=3.6.0->ipywidgets>=7->nglview) (4.19.0)\n",
            "Requirement already satisfied: six>=1.5 in /usr/local/lib/python3.10/dist-packages (from python-dateutil>=2.1->jupyter-client->ipykernel>=4.5.1->ipywidgets>=7->nglview) (1.16.0)\n",
            "Requirement already satisfied: argon2-cffi-bindings in /usr/local/lib/python3.10/dist-packages (from argon2-cffi->notebook>=4.4.1->widgetsnbextension~=3.6.0->ipywidgets>=7->nglview) (21.2.0)\n",
            "Requirement already satisfied: attrs>=22.2.0 in /usr/local/lib/python3.10/dist-packages (from jsonschema>=2.6->nbformat->notebook>=4.4.1->widgetsnbextension~=3.6.0->ipywidgets>=7->nglview) (23.1.0)\n",
            "Requirement already satisfied: jsonschema-specifications>=2023.03.6 in /usr/local/lib/python3.10/dist-packages (from jsonschema>=2.6->nbformat->notebook>=4.4.1->widgetsnbextension~=3.6.0->ipywidgets>=7->nglview) (2023.7.1)\n",
            "Requirement already satisfied: referencing>=0.28.4 in /usr/local/lib/python3.10/dist-packages (from jsonschema>=2.6->nbformat->notebook>=4.4.1->widgetsnbextension~=3.6.0->ipywidgets>=7->nglview) (0.30.2)\n",
            "Requirement already satisfied: rpds-py>=0.7.1 in /usr/local/lib/python3.10/dist-packages (from jsonschema>=2.6->nbformat->notebook>=4.4.1->widgetsnbextension~=3.6.0->ipywidgets>=7->nglview) (0.9.2)\n",
            "Requirement already satisfied: anyio<4,>=3.1.0 in /usr/local/lib/python3.10/dist-packages (from jupyter-server>=1.8->nbclassic>=0.4.7->notebook>=4.4.1->widgetsnbextension~=3.6.0->ipywidgets>=7->nglview) (3.7.1)\n",
            "Requirement already satisfied: websocket-client in /usr/local/lib/python3.10/dist-packages (from jupyter-server>=1.8->nbclassic>=0.4.7->notebook>=4.4.1->widgetsnbextension~=3.6.0->ipywidgets>=7->nglview) (1.6.2)\n",
            "Requirement already satisfied: cffi>=1.0.1 in /usr/local/lib/python3.10/dist-packages (from argon2-cffi-bindings->argon2-cffi->notebook>=4.4.1->widgetsnbextension~=3.6.0->ipywidgets>=7->nglview) (1.15.1)\n",
            "Requirement already satisfied: soupsieve>1.2 in /usr/local/lib/python3.10/dist-packages (from beautifulsoup4->nbconvert>=5->notebook>=4.4.1->widgetsnbextension~=3.6.0->ipywidgets>=7->nglview) (2.4.1)\n",
            "Requirement already satisfied: webencodings in /usr/local/lib/python3.10/dist-packages (from bleach->nbconvert>=5->notebook>=4.4.1->widgetsnbextension~=3.6.0->ipywidgets>=7->nglview) (0.5.1)\n",
            "Requirement already satisfied: idna>=2.8 in /usr/local/lib/python3.10/dist-packages (from anyio<4,>=3.1.0->jupyter-server>=1.8->nbclassic>=0.4.7->notebook>=4.4.1->widgetsnbextension~=3.6.0->ipywidgets>=7->nglview) (3.4)\n",
            "Requirement already satisfied: sniffio>=1.1 in /usr/local/lib/python3.10/dist-packages (from anyio<4,>=3.1.0->jupyter-server>=1.8->nbclassic>=0.4.7->notebook>=4.4.1->widgetsnbextension~=3.6.0->ipywidgets>=7->nglview) (1.3.0)\n",
            "Requirement already satisfied: exceptiongroup in /usr/local/lib/python3.10/dist-packages (from anyio<4,>=3.1.0->jupyter-server>=1.8->nbclassic>=0.4.7->notebook>=4.4.1->widgetsnbextension~=3.6.0->ipywidgets>=7->nglview) (1.1.3)\n",
            "Requirement already satisfied: pycparser in /usr/local/lib/python3.10/dist-packages (from cffi>=1.0.1->argon2-cffi-bindings->argon2-cffi->notebook>=4.4.1->widgetsnbextension~=3.6.0->ipywidgets>=7->nglview) (2.21)\n",
            "Building wheels for collected packages: nglview\n",
            "  Building wheel for nglview (pyproject.toml) ... \u001b[?25l\u001b[?25hdone\n",
            "  Created wheel for nglview: filename=nglview-3.0.7-py3-none-any.whl size=10096145 sha256=b9d9240a3311c40cead8d20e2461b3152655b37e41dc0a7e22e519ed75e83e63\n",
            "  Stored in directory: /root/.cache/pip/wheels/7a/09/68/d0d369f347c8fb4a8668b313744d9e83bb24d5c7060b962825\n",
            "Successfully built nglview\n",
            "Installing collected packages: jedi, nglview\n",
            "Successfully installed jedi-0.19.0 nglview-3.0.7\n"
          ]
        }
      ]
    },
    {
      "cell_type": "code",
      "execution_count": 4,
      "metadata": {
        "nbgrader": {
          "grade": false,
          "grade_id": "cell-0925ca393e319102",
          "locked": true,
          "schema_version": 3,
          "solution": false,
          "task": false
        },
        "colab": {
          "base_uri": "https://localhost:8080/",
          "height": 35,
          "referenced_widgets": [
            "6e3c47b17ad54a70ae727de294793d94"
          ]
        },
        "id": "NML_jfbQNG2B",
        "outputId": "d2c65362-d6ed-41c3-be75-c95eeb6eb90b"
      },
      "outputs": [
        {
          "output_type": "display_data",
          "data": {
            "text/plain": [],
            "application/vnd.jupyter.widget-view+json": {
              "version_major": 2,
              "version_minor": 0,
              "model_id": "6e3c47b17ad54a70ae727de294793d94"
            }
          },
          "metadata": {}
        },
        {
          "output_type": "stream",
          "name": "stdout",
          "text": [
            "Populating the interactive namespace from numpy and matplotlib\n"
          ]
        }
      ],
      "source": [
        "import numpy as np\n",
        "import pandas as pd\n",
        "import GPy\n",
        "\n",
        "from ase.io import read\n",
        "import nglview\n",
        "\n",
        "from IPython.display import display\n",
        "\n",
        "%pylab inline\n",
        "import matplotlib.pyplot as plt\n",
        "import seaborn as sns\n",
        "sns.set_context('talk')"
      ]
    },
    {
      "cell_type": "code",
      "execution_count": 5,
      "metadata": {
        "nbgrader": {
          "grade": false,
          "grade_id": "cell-da1e48df809e6488",
          "locked": true,
          "schema_version": 3,
          "solution": false,
          "task": false
        },
        "id": "3Z8kYbHdNG2B"
      },
      "outputs": [],
      "source": [
        "plt.rcParams[\"figure.figsize\"] = (10, 8)"
      ]
    },
    {
      "cell_type": "markdown",
      "metadata": {
        "nbgrader": {
          "grade": false,
          "grade_id": "cell-d9ebcb163bda0b66",
          "locked": true,
          "schema_version": 3,
          "solution": false,
          "task": false
        },
        "id": "yW9tF5-TNG2B"
      },
      "source": [
        "## Part 1\n",
        "### Learning the interaction energy of a single water molecule\n",
        "\n",
        "The quantum mechanical energy of a water molecule - within the Born-Oppenheimer approximation - is a function of the geometry of the molecule, i.e. the Cartesian coordinates $\\mathbf{r}_\\rm{O}$, $\\mathbf{r}_{\\rm H_1}$ and  $\\mathbf{r}_{\\rm H_2}$. Of course, this energy does not depend on the orientation of the water molecule if there is no external field interacting with the molecule.\n",
        "\n",
        "<img src=\"water.png\">\n",
        "\n",
        "We can rewrite the energy function as $E(\\mathbf{r}_{\\rm O},\\mathbf{r}_{\\rm H_1},\\mathbf{r}_{\\rm H_2}) \\equiv E(r_{\\rm OH_1},r_{\\rm OH_2},\\theta_{\\rm HOH})$ where $r_{\\rm OH}$ are the bond lengths and $\\theta_{\\rm HOH}$ the bond angle. This description is invariant to rotations and translations. We also know that the 'label' of the hydrogens is unimportant (i.e. swapping $\\rm H_1$ and $\\rm H_2$ does not change the energy), therefore it is useful to symmetrise the distances.\n",
        "\n",
        "In this exercise, we will use the following data coordinates:\n",
        "* $r_+ = r_{\\rm OH_1} + r_{\\rm OH_2}$\n",
        "* $r_- = (r_{\\rm OH_1} - r_{\\rm OH_2})^2$\n",
        "* $a = \\mathbf{r}_{\\rm OH_1} \\cdot \\mathbf{r}_{\\rm OH_2}$\n",
        "\n",
        "### Question 1\n",
        "\n",
        "**Explain why the descriptor functions $r_+$, $r_-$ and $a$ are invariant to rigid rotations, translations of the molecule and permutations of the hydrogen indices.**\n",
        "\n",
        "answer: due to the symmetry of the water molecule around the oxygen axis, $r_+$, and $r_-$ are both invariant against any translation and rotation. Moreover, because $\\mathbf{r}_{\\rm OH_1}$ and $\\mathbf{r}_{\\rm OH_2}$ vectors are relative positional vectors and are not coming from the origin of the coordinates, they are also invariant to rigid rotation and translation of the molecule.\n",
        "\n",
        "\n",
        "\n",
        "\n"
      ]
    },
    {
      "cell_type": "code",
      "execution_count": 7,
      "metadata": {
        "colab": {
          "base_uri": "https://localhost:8080/"
        },
        "id": "bRKwBIo5NG2C",
        "outputId": "7e2c0b87-9481-4483-f142-98f7d58f6b94"
      },
      "outputs": [
        {
          "output_type": "stream",
          "name": "stdout",
          "text": [
            "2886\n"
          ]
        }
      ],
      "source": [
        "# Read in water configurations\n",
        "water_configs = read(\"water_configs.xyz\", format=\"extxyz\", index=\":\")\n",
        "# There should be 2886 independent water molecules\n",
        "print(len(water_configs))"
      ]
    },
    {
      "cell_type": "code",
      "source": [
        "water_configs[0:10]"
      ],
      "metadata": {
        "colab": {
          "base_uri": "https://localhost:8080/"
        },
        "id": "SjbbKFsMaB5U",
        "outputId": "055749dc-624a-4ab2-be7d-254e17b2fd48"
      },
      "execution_count": 8,
      "outputs": [
        {
          "output_type": "execute_result",
          "data": {
            "text/plain": [
              "[Atoms(symbols='OH2', pbc=True, cell=[30.0, 30.0, 30.0], map_shift=..., n_neighb=..., calculator=SinglePointCalculator(...)),\n",
              " Atoms(symbols='OH2', pbc=True, cell=[30.0, 30.0, 30.0], map_shift=..., n_neighb=..., calculator=SinglePointCalculator(...)),\n",
              " Atoms(symbols='OH2', pbc=True, cell=[30.0, 30.0, 30.0], map_shift=..., n_neighb=..., calculator=SinglePointCalculator(...)),\n",
              " Atoms(symbols='OH2', pbc=True, cell=[30.0, 30.0, 30.0], map_shift=..., n_neighb=..., calculator=SinglePointCalculator(...)),\n",
              " Atoms(symbols='OH2', pbc=True, cell=[30.0, 30.0, 30.0], map_shift=..., n_neighb=..., calculator=SinglePointCalculator(...)),\n",
              " Atoms(symbols='OH2', pbc=True, cell=[30.0, 30.0, 30.0], map_shift=..., n_neighb=..., calculator=SinglePointCalculator(...)),\n",
              " Atoms(symbols='OH2', pbc=True, cell=[30.0, 30.0, 30.0], map_shift=..., n_neighb=..., calculator=SinglePointCalculator(...)),\n",
              " Atoms(symbols='OH2', pbc=True, cell=[30.0, 30.0, 30.0], map_shift=..., n_neighb=..., calculator=SinglePointCalculator(...)),\n",
              " Atoms(symbols='OH2', pbc=True, cell=[30.0, 30.0, 30.0], map_shift=..., n_neighb=..., calculator=SinglePointCalculator(...)),\n",
              " Atoms(symbols='OH2', pbc=True, cell=[30.0, 30.0, 30.0], map_shift=..., n_neighb=..., calculator=SinglePointCalculator(...))]"
            ]
          },
          "metadata": {},
          "execution_count": 8
        }
      ]
    },
    {
      "cell_type": "code",
      "execution_count": 9,
      "metadata": {
        "colab": {
          "base_uri": "https://localhost:8080/",
          "height": 17,
          "referenced_widgets": [
            "2b04af665ae040149b5028f0a546b9e2",
            "3ae453b655d5478bb186c1291f10ee4b",
            "72993789f3bd49c79e7b9576d7f4d96f",
            "37c224879be6414f83ced26486f345c5",
            "7bb59d9f0daa47cea6a0756a9ff57ed8",
            "95ad44a5d0cd4fb2a457253046d179d3",
            "93896ceb3dbe420d87f0d16f98456a8e"
          ]
        },
        "id": "U4FzJl0aNG2C",
        "outputId": "b0128089-d216-4085-e11d-1d883560d9ff"
      },
      "outputs": [
        {
          "output_type": "display_data",
          "data": {
            "text/plain": [
              "NGLWidget(max_frame=2885)"
            ],
            "application/vnd.jupyter.widget-view+json": {
              "version_major": 2,
              "version_minor": 0,
              "model_id": "2b04af665ae040149b5028f0a546b9e2"
            }
          },
          "metadata": {}
        }
      ],
      "source": [
        "# optional - for visualisation\n",
        "nglview.show_asetraj(water_configs)"
      ]
    },
    {
      "cell_type": "code",
      "source": [
        "for a in water_configs[0:1]:\n",
        "    p = a.get_positions()\n",
        "    print(a.get_potential_energy())\n",
        ""
      ],
      "metadata": {
        "colab": {
          "base_uri": "https://localhost:8080/"
        },
        "id": "C-p0XdQzae9P",
        "outputId": "7dae0de1-6d01-4df9-d864-d014c69423d6"
      },
      "execution_count": 10,
      "outputs": [
        {
          "output_type": "stream",
          "name": "stdout",
          "text": [
            "18.253403511614422\n"
          ]
        }
      ]
    },
    {
      "cell_type": "code",
      "execution_count": 11,
      "metadata": {
        "id": "I-aCIb_vNG2C"
      },
      "outputs": [],
      "source": [
        "x = [] # input features\n",
        "y = [] # target values\n",
        "\n",
        "# Calculating descriptor vectors for each molecule and collect target energies\n",
        "for a in water_configs:\n",
        "    p = a.get_positions() # positions: O, H1, H2\n",
        "    rOH1 = a.get_distance(0, 1)# calculating distance OH1\n",
        "    rOH2 = a.get_distance(0, 2)# calculating distances OH2\n",
        "    aHOH = np.dot(p[1]-p[0], p[2]-p[0])# dot product between the vectors OH1 and OH2\n",
        "    # <Here rOH1 and rOH2 are only distances and aHOH is a dot product of two vectors.>\n",
        "    x.append([(rOH1 + rOH2), (rOH1 - rOH2)**2, aHOH]) # collect descriptors, they are all scalars.\n",
        "\n",
        "    y.append(a.get_potential_energy()) # QM energy of a water molecule"
      ]
    },
    {
      "cell_type": "markdown",
      "metadata": {
        "nbgrader": {
          "grade": false,
          "grade_id": "cell-2265a8aeb3698090",
          "locked": true,
          "schema_version": 3,
          "solution": false,
          "task": false
        },
        "id": "PYLU_KMoNG2C"
      },
      "source": [
        "We randomly split the data to a train and test set and then use it to train a Gaussian process regression model using `GPy`."
      ]
    },
    {
      "cell_type": "code",
      "execution_count": 12,
      "metadata": {
        "colab": {
          "base_uri": "https://localhost:8080/"
        },
        "id": "FOfDaSSaNG2C",
        "outputId": "d8a983b0-77fe-4f06-ffca-9f2b1adf7930"
      },
      "outputs": [
        {
          "output_type": "execute_result",
          "data": {
            "text/plain": [
              "(288, 1)"
            ]
          },
          "metadata": {},
          "execution_count": 12
        }
      ],
      "source": [
        "from sklearn.model_selection import train_test_split\n",
        "\n",
        "# test_size sets the fraction of the test set\n",
        "X_train, X_test, y_train, y_test = train_test_split(x, y, test_size=0.9)\n",
        "\n",
        "X_train = np.array(X_train) # a vector of the 3 descriptors.\n",
        "y_train = np.array(y_train)[:, None] # GPy needs a 2D array, y_train is a (288, 1) dimensional array of (1,) dimensional arrays\n",
        "\n",
        "y_train.shape"
      ]
    },
    {
      "cell_type": "markdown",
      "source": [
        "The Radial Basis Function (RBF) kernel, also known as the Gaussian kernel, is a popular and widely used kernel function in machine learning and particularly in the context of kernel methods and Gaussian processes. It is used to measure the similarity or distance between data points in a high-dimensional space. The RBF kernel is defined as:\n",
        "\n",
        "$$ K(x, x') = exp(- {\\frac {||x -x'||}{2 {σ^2}}})$$\n",
        "\n",
        "* $K(x, x')$ : This represents the similarity or kernel value between two data points\n",
        "x and x'.\n",
        "\n",
        "* $∣∣x−x'∣∣$  : These are vectors representing the data points in a high-dimensional feature space. The RBF kernel measures the similarity between these vectors.\n",
        "\n",
        "* $σ^2$ : This is a hyperparameter called the `bandwidth` or `lengthscale` parameter. It controls the spread or width of the kernel function. A smaller $σ^2$ results in a narrow kernel with high similarity values for nearby data points, while a larger $σ^2$ results in a wider kernel with similarity values that decay more slowly with distance."
      ],
      "metadata": {
        "id": "O1x3DTLDjPmW"
      }
    },
    {
      "cell_type": "code",
      "execution_count": 13,
      "metadata": {
        "colab": {
          "base_uri": "https://localhost:8080/"
        },
        "id": "WsZxrr_1NG2D",
        "outputId": "884b1598-fc0e-4daa-a200-c8465a6874dc"
      },
      "outputs": [
        {
          "output_type": "stream",
          "name": "stdout",
          "text": [
            "Range of input data: 18.14\n"
          ]
        }
      ],
      "source": [
        "# input_dim: dimensionality of data points - our descriptor vectors have three elements\n",
        "# variance: range (squared) of the function\n",
        "print(\"Range of input data: {:.2f}\".format(y_train.max()-y_train.min()))\n",
        "# lengthscale: characteristic lengthscale - start with a default of 0.5\n",
        "# ARD: automatic relevance determination - allows separate lengthscales for each three descriptor dimensions\n",
        "\n",
        "kernel = GPy.kern.RBF(input_dim=3, variance=1., lengthscale=10.,ARD=True) # ARD : seperate length scale for each input"
      ]
    },
    {
      "cell_type": "markdown",
      "metadata": {
        "nbgrader": {
          "grade": false,
          "grade_id": "cell-2f7ef19e25d32937",
          "locked": true,
          "schema_version": 3,
          "solution": false,
          "task": false
        },
        "id": "2ZyQ87uiNG2D"
      },
      "source": [
        "## What is ARD in the code above ?\n",
        "\n",
        "Using \"automatic relevance determination\" (ARD) or separate length scales for each input dimension in Gaussian process regression can be useful in certain cases because it allows the model to capture different degrees of influence or importance of each input dimension on the output. This can lead to more `flexible` and `accurate` models in situations where the relationships between inputs and outputs are not isotropic (i.e., the influence of each dimension varies).\n",
        "\n",
        "\n",
        "\n",
        "\n",
        "\n",
        "### Question 2.a\n",
        "\n",
        "**Why is it useful to use 'automatic relevance determination' (separate lengthscales, rather than one for all three dimensions) in this situation?** we have chosen ARD to be True eventhough we have used the same length scale for all input dimensions. This is because we want the model to be flexible and understand that these three inputs might have different influeneces on the process."
      ]
    },
    {
      "cell_type": "code",
      "execution_count": 14,
      "metadata": {
        "id": "X6oJ1dThNG2D"
      },
      "outputs": [],
      "source": [
        "# Generate a Gaussian Process model by adding training data. Start with a small noise parameter.\n",
        "m = GPy.models.GPRegression(X_train, y_train, kernel, noise_var=1.)"
      ]
    },
    {
      "cell_type": "code",
      "execution_count": 15,
      "metadata": {
        "colab": {
          "base_uri": "https://localhost:8080/"
        },
        "id": "JqzI6SoYNG2D",
        "outputId": "83739abc-9186-4397-da3c-3d0b720d5d49"
      },
      "outputs": [
        {
          "output_type": "stream",
          "name": "stdout",
          "text": [
            "Optimization restart 1/10, f = 665.8274007125972\n",
            "Optimization restart 2/10, f = -359.39460555181284\n",
            "Optimization restart 3/10, f = -359.39469528077797\n",
            "Optimization restart 4/10, f = -359.39444381279776\n",
            "Optimization restart 5/10, f = -359.39460081529063\n",
            "Optimization restart 6/10, f = -359.3946442174901\n",
            "Optimization restart 7/10, f = -359.3946706384939\n",
            "Optimization restart 8/10, f = -359.39458171928817\n",
            "Optimization restart 9/10, f = -359.39474240472344\n",
            "Optimization restart 10/10, f = -359.39476113249106\n"
          ]
        }
      ],
      "source": [
        "# Optimise the likelihood with respect of the hyperparameters of the model\n",
        "m.optimize_restarts(num_restarts = 10);"
      ]
    },
    {
      "cell_type": "markdown",
      "metadata": {
        "nbgrader": {
          "grade": false,
          "grade_id": "cell-9b8e88c2e4d1842e",
          "locked": true,
          "schema_version": 3,
          "solution": false,
          "task": false
        },
        "id": "O-If9qtlNG2D"
      },
      "source": [
        "### Question 2.b\n",
        "\n",
        "**When optimising the hyperparameters, what do we mean by restarts and why is it useful to do more than one?** [5 marks]"
      ]
    },
    {
      "cell_type": "markdown",
      "metadata": {
        "nbgrader": {
          "grade": true,
          "grade_id": "cell-1fc45652a8ca50ee",
          "locked": false,
          "points": 5,
          "schema_version": 3,
          "solution": true,
          "task": false
        },
        "id": "CAX9e3LuNG2D"
      },
      "source": [
        "YOUR ANSWER HERE"
      ]
    },
    {
      "cell_type": "code",
      "execution_count": 16,
      "metadata": {
        "colab": {
          "base_uri": "https://localhost:8080/",
          "height": 307
        },
        "id": "uUMFZoTnNG2D",
        "outputId": "d792e7ff-8626-4cbe-8d98-b4cab9ae4021"
      },
      "outputs": [
        {
          "output_type": "display_data",
          "data": {
            "text/plain": [
              "<GPy.models.gp_regression.GPRegression at 0x7e340a3e7190>"
            ],
            "text/html": [
              "<style type=\"text/css\">\n",
              ".pd{\n",
              "    font-family: \"Courier New\", Courier, monospace !important;\n",
              "    width: 100%;\n",
              "    padding: 3px;\n",
              "}\n",
              "</style>\n",
              "\n",
              "<p class=pd>\n",
              "<b>Model</b>: GP regression<br>\n",
              "<b>Objective</b>: -359.39476113249106<br>\n",
              "<b>Number of Parameters</b>: 5<br>\n",
              "<b>Number of Optimization Parameters</b>: 5<br>\n",
              "<b>Updates</b>: True<br>\n",
              "</p>\n",
              "<style type=\"text/css\">\n",
              ".tg  {font-family:\"Courier New\", Courier, monospace !important;padding:2px 3px;word-break:normal;border-collapse:collapse;border-spacing:0;border-color:#DCDCDC;margin:0px auto;width:100%;}\n",
              ".tg td{font-family:\"Courier New\", Courier, monospace !important;font-weight:bold;color:#444;background-color:#F7FDFA;border-style:solid;border-width:1px;overflow:hidden;word-break:normal;border-color:#DCDCDC;}\n",
              ".tg th{font-family:\"Courier New\", Courier, monospace !important;font-weight:normal;color:#fff;background-color:#26ADE4;border-style:solid;border-width:1px;overflow:hidden;word-break:normal;border-color:#DCDCDC;}\n",
              ".tg .tg-left{font-family:\"Courier New\", Courier, monospace !important;font-weight:normal;text-align:left;}\n",
              ".tg .tg-center{font-family:\"Courier New\", Courier, monospace !important;font-weight:normal;text-align:center;}\n",
              ".tg .tg-right{font-family:\"Courier New\", Courier, monospace !important;font-weight:normal;text-align:right;}\n",
              "</style>\n",
              "<table class=\"tg\"><tr><th><b>  GP_regression.         </b></th><th><b>                 value</b></th><th><b>constraints</b></th><th><b>priors</b></th></tr>\n",
              "<tr><td class=tg-left>  rbf.variance           </td><td class=tg-right>     70422.96475460209</td><td class=tg-center>    +ve    </td><td class=tg-center>      </td></tr>\n",
              "<tr><td class=tg-left>  rbf.lengthscale        </td><td class=tg-right>                  (3,)</td><td class=tg-center>    +ve    </td><td class=tg-center>      </td></tr>\n",
              "<tr><td class=tg-left>  Gaussian_noise.variance</td><td class=tg-right>3.5781788304594034e-05</td><td class=tg-center>    +ve    </td><td class=tg-center>      </td></tr>\n",
              "</table>"
            ]
          },
          "metadata": {}
        },
        {
          "output_type": "execute_result",
          "data": {
            "text/plain": [
              "\u001b[1mGP_regression.rbf.lengthscale\u001b[0;0m:\n",
              "Param([0.79614656, 1.99505866, 1.20146988])"
            ],
            "text/html": [
              "<style type=\"text/css\">\n",
              ".tg  {padding:2px 3px;word-break:normal;border-collapse:collapse;border-spacing:0;border-color:#DCDCDC;margin:0px auto;width:100%;}\n",
              ".tg td{font-family:\"Courier New\", Courier, monospace !important;font-weight:bold;color:#444;background-color:#F7FDFA;border-style:solid;border-width:1px;overflow:hidden;word-break:normal;border-color:#DCDCDC;}\n",
              ".tg th{font-family:\"Courier New\", Courier, monospace !important;font-weight:normal;color:#fff;background-color:#26ADE4;border-style:solid;border-width:1px;overflow:hidden;word-break:normal;border-color:#DCDCDC;}\n",
              ".tg .tg-left{font-family:\"Courier New\", Courier, monospace !important;font-weight:normal;text-align:left;}\n",
              ".tg .tg-right{font-family:\"Courier New\", Courier, monospace !important;font-weight:normal;text-align:right;}\n",
              "</style>\n",
              "<table class=\"tg\">\n",
              "\n",
              "<tr>\n",
              "  <th><b>index</b></th>\n",
              "  <th><b>GP_regression.rbf.lengthscale</b></th>\n",
              "  <th><b>constraints</b></th><th><b>priors</b></th>\n",
              "</tr>\n",
              "<tr><td class=tg-left>  [0]  </td><td class=tg-right>                   0.79614656</td><td class=tg-left>    +ve    </td><td class=tg-left>      </td></tr>\n",
              "<tr><td class=tg-left>  [1]  </td><td class=tg-right>                   1.99505866</td><td class=tg-left>    +ve    </td><td class=tg-left>      </td></tr>\n",
              "<tr><td class=tg-left>  [2]  </td><td class=tg-right>                   1.20146988</td><td class=tg-left>    +ve    </td><td class=tg-left>      </td></tr>"
            ]
          },
          "metadata": {},
          "execution_count": 16
        }
      ],
      "source": [
        "# Print the result of the likelihood optimisation\n",
        "display(m)\n",
        "m.rbf.lengthscale"
      ]
    },
    {
      "cell_type": "markdown",
      "metadata": {
        "nbgrader": {
          "grade": false,
          "grade_id": "cell-727aaa09cfd54578",
          "locked": true,
          "schema_version": 3,
          "solution": false,
          "task": false
        },
        "id": "uQZ-ah3xNG2D"
      },
      "source": [
        "`m` contains the trained model: a combination of the _prior_ (in the form of the kernel and its hyperparameters, as well as the noise model) and _data_ (in the form of geometrical descriptors and corresponding energy values).\n",
        "\n",
        "### Question 2.c\n",
        "\n",
        "**From the output of the previous cell, what is the noise variance of the optimal model? What does this tell us about the data?** [5 marks]"
      ]
    },
    {
      "cell_type": "markdown",
      "metadata": {
        "nbgrader": {
          "grade": true,
          "grade_id": "cell-5333023354b78801",
          "locked": false,
          "points": 5,
          "schema_version": 3,
          "solution": true,
          "task": false
        },
        "id": "EbhywnxHNG2E"
      },
      "source": [
        "YOUR ANSWER HERE"
      ]
    },
    {
      "cell_type": "code",
      "execution_count": 21,
      "metadata": {
        "colab": {
          "base_uri": "https://localhost:8080/"
        },
        "id": "LD3VCHTWNG2E",
        "outputId": "85e8f6df-e3c0-49c7-a68f-87fb23765f46"
      },
      "outputs": [
        {
          "output_type": "stream",
          "name": "stdout",
          "text": [
            "RMSE = 0.332 eV\n"
          ]
        }
      ],
      "source": [
        "# Use the model to predict the energy of water configurations.\n",
        "\n",
        "y_train_predict, y_train_error = m.predict(np.array(X_train)) # predict energies of training configurations\n",
        "y_test_predict, y_test_error = m.predict(np.array(X_test))  # predict energies of the test set configurations\n",
        "\n",
        "# root-mean-square error (RMSE)\n",
        "rmse = np.sqrt(np.mean((np.array(y_test)-y_test_predict[:,0])**2))\n",
        "print(\"RMSE = {:.3f} eV\".format(rmse))"
      ]
    },
    {
      "cell_type": "markdown",
      "metadata": {
        "id": "_-hH9tJ0NG2E"
      },
      "source": [
        "### Question 2.d\n",
        "\n",
        "**Plot graphs to show the correlation of actual and predicted energies, and of the actual and predicted error** [5 marks]"
      ]
    },
    {
      "cell_type": "code",
      "source": [
        "y_test_predict"
      ],
      "metadata": {
        "colab": {
          "base_uri": "https://localhost:8080/"
        },
        "id": "iy1WcKMAz3hA",
        "outputId": "3340e2a0-6f52-4796-ed1d-758e73cb9b34"
      },
      "execution_count": 24,
      "outputs": [
        {
          "output_type": "execute_result",
          "data": {
            "text/plain": [
              "array([[6.76966832],\n",
              "       [3.5881971 ],\n",
              "       [1.33649448],\n",
              "       ...,\n",
              "       [4.3365905 ],\n",
              "       [4.18572921],\n",
              "       [0.59974743]])"
            ]
          },
          "metadata": {},
          "execution_count": 24
        }
      ]
    },
    {
      "cell_type": "code",
      "execution_count": 27,
      "metadata": {
        "nbgrader": {
          "grade": true,
          "grade_id": "cell-bff3d60b9fc1fa85",
          "locked": false,
          "points": 5,
          "schema_version": 3,
          "solution": true,
          "task": false
        },
        "colab": {
          "base_uri": "https://localhost:8080/",
          "height": 1000
        },
        "id": "AWW-1tnpNG2E",
        "outputId": "fedbe3ab-5bea-4013-d524-02039f73aacf"
      },
      "outputs": [
        {
          "output_type": "error",
          "ename": "ValueError",
          "evalue": "ignored",
          "traceback": [
            "\u001b[0;31m---------------------------------------------------------------------------\u001b[0m",
            "\u001b[0;31mValueError\u001b[0m                                Traceback (most recent call last)",
            "\u001b[0;32m<ipython-input-27-ccf1bd3eb862>\u001b[0m in \u001b[0;36m<cell line: 3>\u001b[0;34m()\u001b[0m\n\u001b[1;32m      1\u001b[0m \u001b[0;31m# Plot the correlation of actual and predicted data\u001b[0m\u001b[0;34m\u001b[0m\u001b[0;34m\u001b[0m\u001b[0m\n\u001b[1;32m      2\u001b[0m \u001b[0mplt\u001b[0m\u001b[0;34m.\u001b[0m\u001b[0mplot\u001b[0m\u001b[0;34m(\u001b[0m\u001b[0my_train\u001b[0m\u001b[0;34m,\u001b[0m\u001b[0my_train_predict\u001b[0m\u001b[0;34m,\u001b[0m\u001b[0;34m\"s\"\u001b[0m\u001b[0;34m,\u001b[0m \u001b[0mlabel\u001b[0m\u001b[0;34m=\u001b[0m\u001b[0;34m'Train'\u001b[0m\u001b[0;34m)\u001b[0m\u001b[0;34m\u001b[0m\u001b[0;34m\u001b[0m\u001b[0m\n\u001b[0;32m----> 3\u001b[0;31m \u001b[0mplt\u001b[0m\u001b[0;34m.\u001b[0m\u001b[0merrorbar\u001b[0m\u001b[0;34m(\u001b[0m\u001b[0my_test\u001b[0m\u001b[0;34m,\u001b[0m\u001b[0my_test_predict\u001b[0m\u001b[0;34m,\u001b[0m\u001b[0myerr\u001b[0m\u001b[0;34m=\u001b[0m\u001b[0mnp\u001b[0m\u001b[0;34m.\u001b[0m\u001b[0msqrt\u001b[0m\u001b[0;34m(\u001b[0m\u001b[0my_test_error\u001b[0m\u001b[0;34m[\u001b[0m\u001b[0;34m:\u001b[0m\u001b[0;34m,\u001b[0m\u001b[0;36m0\u001b[0m\u001b[0;34m]\u001b[0m\u001b[0;34m)\u001b[0m\u001b[0;34m,\u001b[0m\u001b[0mfmt\u001b[0m\u001b[0;34m=\u001b[0m\u001b[0;34m\".\"\u001b[0m\u001b[0;34m,\u001b[0m \u001b[0mlabel\u001b[0m\u001b[0;34m=\u001b[0m\u001b[0;34m'Test'\u001b[0m\u001b[0;34m)\u001b[0m\u001b[0;34m\u001b[0m\u001b[0;34m\u001b[0m\u001b[0m\n\u001b[0m\u001b[1;32m      4\u001b[0m \u001b[0mplt\u001b[0m\u001b[0;34m.\u001b[0m\u001b[0mxlabel\u001b[0m\u001b[0;34m(\u001b[0m\u001b[0;34m'True energies / eV'\u001b[0m\u001b[0;34m)\u001b[0m\u001b[0;34m\u001b[0m\u001b[0;34m\u001b[0m\u001b[0m\n\u001b[1;32m      5\u001b[0m \u001b[0mplt\u001b[0m\u001b[0;34m.\u001b[0m\u001b[0mylabel\u001b[0m\u001b[0;34m(\u001b[0m\u001b[0;34m'Predicted energies / eV'\u001b[0m\u001b[0;34m)\u001b[0m\u001b[0;34m\u001b[0m\u001b[0;34m\u001b[0m\u001b[0m\n",
            "\u001b[0;32m/usr/local/lib/python3.10/dist-packages/matplotlib/pyplot.py\u001b[0m in \u001b[0;36merrorbar\u001b[0;34m(x, y, yerr, xerr, fmt, ecolor, elinewidth, capsize, barsabove, lolims, uplims, xlolims, xuplims, errorevery, capthick, data, **kwargs)\u001b[0m\n\u001b[1;32m   2562\u001b[0m         \u001b[0muplims\u001b[0m\u001b[0;34m=\u001b[0m\u001b[0;32mFalse\u001b[0m\u001b[0;34m,\u001b[0m \u001b[0mxlolims\u001b[0m\u001b[0;34m=\u001b[0m\u001b[0;32mFalse\u001b[0m\u001b[0;34m,\u001b[0m \u001b[0mxuplims\u001b[0m\u001b[0;34m=\u001b[0m\u001b[0;32mFalse\u001b[0m\u001b[0;34m,\u001b[0m \u001b[0merrorevery\u001b[0m\u001b[0;34m=\u001b[0m\u001b[0;36m1\u001b[0m\u001b[0;34m,\u001b[0m\u001b[0;34m\u001b[0m\u001b[0;34m\u001b[0m\u001b[0m\n\u001b[1;32m   2563\u001b[0m         capthick=None, *, data=None, **kwargs):\n\u001b[0;32m-> 2564\u001b[0;31m     return gca().errorbar(\n\u001b[0m\u001b[1;32m   2565\u001b[0m         \u001b[0mx\u001b[0m\u001b[0;34m,\u001b[0m \u001b[0my\u001b[0m\u001b[0;34m,\u001b[0m \u001b[0myerr\u001b[0m\u001b[0;34m=\u001b[0m\u001b[0myerr\u001b[0m\u001b[0;34m,\u001b[0m \u001b[0mxerr\u001b[0m\u001b[0;34m=\u001b[0m\u001b[0mxerr\u001b[0m\u001b[0;34m,\u001b[0m \u001b[0mfmt\u001b[0m\u001b[0;34m=\u001b[0m\u001b[0mfmt\u001b[0m\u001b[0;34m,\u001b[0m \u001b[0mecolor\u001b[0m\u001b[0;34m=\u001b[0m\u001b[0mecolor\u001b[0m\u001b[0;34m,\u001b[0m\u001b[0;34m\u001b[0m\u001b[0;34m\u001b[0m\u001b[0m\n\u001b[1;32m   2566\u001b[0m         \u001b[0melinewidth\u001b[0m\u001b[0;34m=\u001b[0m\u001b[0melinewidth\u001b[0m\u001b[0;34m,\u001b[0m \u001b[0mcapsize\u001b[0m\u001b[0;34m=\u001b[0m\u001b[0mcapsize\u001b[0m\u001b[0;34m,\u001b[0m \u001b[0mbarsabove\u001b[0m\u001b[0;34m=\u001b[0m\u001b[0mbarsabove\u001b[0m\u001b[0;34m,\u001b[0m\u001b[0;34m\u001b[0m\u001b[0;34m\u001b[0m\u001b[0m\n",
            "\u001b[0;32m/usr/local/lib/python3.10/dist-packages/matplotlib/__init__.py\u001b[0m in \u001b[0;36minner\u001b[0;34m(ax, data, *args, **kwargs)\u001b[0m\n\u001b[1;32m   1440\u001b[0m     \u001b[0;32mdef\u001b[0m \u001b[0minner\u001b[0m\u001b[0;34m(\u001b[0m\u001b[0max\u001b[0m\u001b[0;34m,\u001b[0m \u001b[0;34m*\u001b[0m\u001b[0margs\u001b[0m\u001b[0;34m,\u001b[0m \u001b[0mdata\u001b[0m\u001b[0;34m=\u001b[0m\u001b[0;32mNone\u001b[0m\u001b[0;34m,\u001b[0m \u001b[0;34m**\u001b[0m\u001b[0mkwargs\u001b[0m\u001b[0;34m)\u001b[0m\u001b[0;34m:\u001b[0m\u001b[0;34m\u001b[0m\u001b[0;34m\u001b[0m\u001b[0m\n\u001b[1;32m   1441\u001b[0m         \u001b[0;32mif\u001b[0m \u001b[0mdata\u001b[0m \u001b[0;32mis\u001b[0m \u001b[0;32mNone\u001b[0m\u001b[0;34m:\u001b[0m\u001b[0;34m\u001b[0m\u001b[0;34m\u001b[0m\u001b[0m\n\u001b[0;32m-> 1442\u001b[0;31m             \u001b[0;32mreturn\u001b[0m \u001b[0mfunc\u001b[0m\u001b[0;34m(\u001b[0m\u001b[0max\u001b[0m\u001b[0;34m,\u001b[0m \u001b[0;34m*\u001b[0m\u001b[0mmap\u001b[0m\u001b[0;34m(\u001b[0m\u001b[0msanitize_sequence\u001b[0m\u001b[0;34m,\u001b[0m \u001b[0margs\u001b[0m\u001b[0;34m)\u001b[0m\u001b[0;34m,\u001b[0m \u001b[0;34m**\u001b[0m\u001b[0mkwargs\u001b[0m\u001b[0;34m)\u001b[0m\u001b[0;34m\u001b[0m\u001b[0;34m\u001b[0m\u001b[0m\n\u001b[0m\u001b[1;32m   1443\u001b[0m \u001b[0;34m\u001b[0m\u001b[0m\n\u001b[1;32m   1444\u001b[0m         \u001b[0mbound\u001b[0m \u001b[0;34m=\u001b[0m \u001b[0mnew_sig\u001b[0m\u001b[0;34m.\u001b[0m\u001b[0mbind\u001b[0m\u001b[0;34m(\u001b[0m\u001b[0max\u001b[0m\u001b[0;34m,\u001b[0m \u001b[0;34m*\u001b[0m\u001b[0margs\u001b[0m\u001b[0;34m,\u001b[0m \u001b[0;34m**\u001b[0m\u001b[0mkwargs\u001b[0m\u001b[0;34m)\u001b[0m\u001b[0;34m\u001b[0m\u001b[0;34m\u001b[0m\u001b[0m\n",
            "\u001b[0;32m/usr/local/lib/python3.10/dist-packages/matplotlib/axes/_axes.py\u001b[0m in \u001b[0;36merrorbar\u001b[0;34m(self, x, y, yerr, xerr, fmt, ecolor, elinewidth, capsize, barsabove, lolims, uplims, xlolims, xuplims, errorevery, capthick, **kwargs)\u001b[0m\n\u001b[1;32m   3646\u001b[0m             \u001b[0;31m#     return dep - elow * ~lolims, dep + ehigh * ~uplims\u001b[0m\u001b[0;34m\u001b[0m\u001b[0;34m\u001b[0m\u001b[0m\n\u001b[1;32m   3647\u001b[0m             \u001b[0;31m# except that broadcast_to would strip units.\u001b[0m\u001b[0;34m\u001b[0m\u001b[0;34m\u001b[0m\u001b[0m\n\u001b[0;32m-> 3648\u001b[0;31m             \u001b[0mlow\u001b[0m\u001b[0;34m,\u001b[0m \u001b[0mhigh\u001b[0m \u001b[0;34m=\u001b[0m \u001b[0mdep\u001b[0m \u001b[0;34m+\u001b[0m \u001b[0mnp\u001b[0m\u001b[0;34m.\u001b[0m\u001b[0mrow_stack\u001b[0m\u001b[0;34m(\u001b[0m\u001b[0;34m[\u001b[0m\u001b[0;34m-\u001b[0m\u001b[0;34m(\u001b[0m\u001b[0;36m1\u001b[0m \u001b[0;34m-\u001b[0m \u001b[0mlolims\u001b[0m\u001b[0;34m)\u001b[0m\u001b[0;34m,\u001b[0m \u001b[0;36m1\u001b[0m \u001b[0;34m-\u001b[0m \u001b[0muplims\u001b[0m\u001b[0;34m]\u001b[0m\u001b[0;34m)\u001b[0m \u001b[0;34m*\u001b[0m \u001b[0merr\u001b[0m\u001b[0;34m\u001b[0m\u001b[0;34m\u001b[0m\u001b[0m\n\u001b[0m\u001b[1;32m   3649\u001b[0m             barcols.append(lines_func(\n\u001b[1;32m   3650\u001b[0m                 *apply_mask([indep, low, high], everymask), **eb_lines_style))\n",
            "\u001b[0;31mValueError\u001b[0m: operands could not be broadcast together with shapes (2598,1) (2,2598) "
          ]
        },
        {
          "output_type": "display_data",
          "data": {
            "text/plain": [
              "<Figure size 1000x800 with 1 Axes>"
            ],
            "image/png": "[encoded data removed]"
          },
          "metadata": {}
        }
      ],
      "source": [
        "# Plot the correlation of actual and predicted data\n",
        "plt.plot(y_train,y_train_predict,\"s\", label='Train')\n",
        "plt.errorbar(y_test,y_test_predict,yerr=np.sqrt(y_test_error[:,0]),fmt=\".\", label='Test')\n",
        "plt.xlabel('True energies / eV')\n",
        "plt.ylabel('Predicted energies / eV')\n",
        "plt.legend()\n",
        "plt.show()\n",
        "\n",
        "# Plot the correlation of actual and predicted error\n",
        "plt.plot(np.abs(y_test-y_test_predict[:,0]), np.sqrt(y_test_error[:,0]),\"s\")\n",
        "plt.xlabel('True error / eV')\n",
        "plt.ylabel('Predicted error / eV')\n",
        "plt.show()"
      ]
    },
    {
      "cell_type": "markdown",
      "metadata": {
        "nbgrader": {
          "grade": false,
          "grade_id": "cell-f8987a36072a90b2",
          "locked": true,
          "schema_version": 3,
          "solution": false,
          "task": false
        },
        "id": "HHH8u1N4NG2E"
      },
      "source": [
        "### Question 3.a\n",
        "\n",
        "**Briefly disucss how accurate the Gaussian Process water model is. How accurate is the error prediction?** [5 marks]"
      ]
    },
    {
      "cell_type": "markdown",
      "metadata": {
        "nbgrader": {
          "grade": true,
          "grade_id": "cell-ca0013e2d181a889",
          "locked": false,
          "points": 5,
          "schema_version": 3,
          "solution": true,
          "task": false
        },
        "id": "LUuEpWbwNG2E"
      },
      "source": [
        "YOUR ANSWER HERE"
      ]
    },
    {
      "cell_type": "markdown",
      "metadata": {
        "nbgrader": {
          "grade": false,
          "grade_id": "cell-e26ca6bc0eb19d40",
          "locked": true,
          "schema_version": 3,
          "solution": false,
          "task": false
        },
        "id": "vz453wH4NG2E"
      },
      "source": [
        "### Question 3.b\n",
        "\n",
        "We only used 10% of the data for training. By adapting the code above, starting from where we split the data into test and train set, fit further GP models with different fractions (10%, 20%, 40%, 80%) of training data - don't forget to optimise the likelihood. Summarise in a table how the root mean squared error (RMSE) changes. Write a short paragraph about the advantages and disadvantages of using more training data. [5 marks code + 5 marks discussion]"
      ]
    },
    {
      "cell_type": "code",
      "execution_count": null,
      "metadata": {
        "nbgrader": {
          "grade": true,
          "grade_id": "cell-c11793666609373f",
          "locked": false,
          "points": 5,
          "schema_version": 3,
          "solution": true,
          "task": false
        },
        "scrolled": false,
        "id": "6mweV4faNG2E"
      },
      "outputs": [],
      "source": [
        "import pandas as pd\n",
        "\n",
        "df = pd.DataFrame(columns=['train_size', 'RMSE'])\n",
        "\n",
        "df['train_size'] = [0.1, 0.2, 0.4, 0.8]\n",
        "\n",
        "for i, train_size in enumerate(df.train_size):\n",
        "    # split data\n",
        "    X_train = np.array(X_train)\n",
        "    y_train = np.array(y_train)[:, None]\n",
        "    # create modeel\n",
        "    # optimise\n",
        "    # predict on test set y_test_predict, y_test_error =\n",
        "    rmse =\n",
        "    print(train_size, rmse)\n",
        "    df.iloc[i, 1] = rmse\n",
        "\n",
        "df"
      ]
    },
    {
      "cell_type": "markdown",
      "metadata": {
        "nbgrader": {
          "grade": true,
          "grade_id": "cell-23dadcbd2f915dae",
          "locked": false,
          "points": 5,
          "schema_version": 3,
          "solution": true,
          "task": false
        },
        "id": "zAh2VockNG2E"
      },
      "source": [
        "YOUR ANSWER HERE"
      ]
    },
    {
      "cell_type": "markdown",
      "metadata": {
        "nbgrader": {
          "grade": false,
          "grade_id": "cell-10b8cc67f26c5c71",
          "locked": true,
          "schema_version": 3,
          "solution": false,
          "task": false
        },
        "id": "trBOYm1vNG2E"
      },
      "source": [
        "### Optimising the geometry of the water molecule, using a Gaussian Process energy model\n",
        "In the following exercise, we will relax the Cartesian coordinates of a water molecule, in order to find the equilibrium geometry. We will use a wrapper function that generates the symmetrised descriptors and using the GP model, predicts the energy of the water molecule. For simplicity, we use the Nelder-Mead algorithm to find the minimum of the function, as it does not require access to the gradients."
      ]
    },
    {
      "cell_type": "code",
      "execution_count": null,
      "metadata": {
        "id": "AEULYBikNG2F"
      },
      "outputs": [],
      "source": [
        "# This is the wrapper function: Cartesian coordinates -> symmetrised descriptors -> GP\n",
        "def GP_water_energy(x):\n",
        "    _x = np.reshape(x, (3,3)) # Input is a flat array of x,y,z coordinates of three atoms.\n",
        "    r1 = np.linalg.norm(_x[0] - _x[1]) # rOH1\n",
        "    r2 = np.linalg.norm(_x[0] - _x[2]) # rOH2\n",
        "    a = np.dot(_x[0] - _x[1],\n",
        "               _x[0] - _x[2]) # dot product of the two OH vectors\n",
        "    _xx = np.array([[(r1 + r2),\n",
        "                     (r1 - r2)**2,\n",
        "                     a]]) # symmetrised descriptor (see above)\n",
        "    res = m.predict(_xx)[0][0][0] # GP prediction\n",
        "    return res"
      ]
    },
    {
      "cell_type": "markdown",
      "metadata": {
        "nbgrader": {
          "grade": false,
          "grade_id": "cell-7cfd75ac56214a9a",
          "locked": true,
          "schema_version": 3,
          "solution": false,
          "task": false
        },
        "id": "ECivSvXbNG2F"
      },
      "source": [
        "We start from a not-too crazy initial condition, and relax the position of all atoms."
      ]
    },
    {
      "cell_type": "code",
      "execution_count": null,
      "metadata": {
        "id": "_fY61KSdNG2F"
      },
      "outputs": [],
      "source": [
        "from scipy.optimize import minimize\n",
        "\n",
        "x0 = np.array([0,0,0,       # Oxygen atom\n",
        "               1.2,0,0,     # 1st hydrogen atom\n",
        "               -0.5,0.7,0]) # 2nd hydrogen atom\n",
        "\n",
        "res = minimize(GP_water_energy, # function to minimise\n",
        "               x0,              # initial condition\n",
        "               method='nelder-mead',\n",
        "               options={\"maxiter\":1000, # number of iterations in the minimiser\n",
        "                        \"fatol\":1e-6    # stopping criterion (tolerance)\n",
        "                       })\n",
        "# res.x contains the final configuration"
      ]
    },
    {
      "cell_type": "code",
      "execution_count": null,
      "metadata": {
        "id": "t0YjtYs4NG2F"
      },
      "outputs": [],
      "source": [
        "# We transform the Cartesian coordinates into bond lengths and the bond angle,\n",
        "# for easier interpretation\n",
        "\n",
        "_x = np.reshape(res.x, (3, 3))\n",
        "r1 =\n",
        "r2 =\n",
        "a =\n",
        "print(\"r1 = {:.3f} A\\nr2 = {:.3f} A\\nangle = {:.1f} degrees\".format(r1,r2,np.rad2deg(np.arccos(a))))"
      ]
    },
    {
      "cell_type": "markdown",
      "metadata": {
        "nbgrader": {
          "grade": false,
          "grade_id": "cell-ae4a2b03b04c71c0",
          "locked": true,
          "schema_version": 3,
          "solution": false,
          "task": false
        },
        "id": "9zTWfY3uNG2F"
      },
      "source": [
        "### Question 4\n",
        "\n",
        "**Inspect the resulting water geometry. How realistic is it? Compare the geometrical parameters to literature (experimental and/or theoretical) values.** [5 marks]"
      ]
    },
    {
      "cell_type": "markdown",
      "metadata": {
        "nbgrader": {
          "grade": true,
          "grade_id": "cell-d9b24bcfc83519b6",
          "locked": false,
          "points": 5,
          "schema_version": 3,
          "solution": true,
          "task": false
        },
        "id": "CbThIDWBNG2F"
      },
      "source": [
        "YOUR ANSWER HERE"
      ]
    },
    {
      "cell_type": "markdown",
      "metadata": {
        "nbgrader": {
          "grade": false,
          "grade_id": "cell-42c1756da9bd0e5a",
          "locked": true,
          "schema_version": 3,
          "solution": false,
          "task": false
        },
        "id": "AsA7ZakmNG2F"
      },
      "source": [
        "### Extension question (not assessed)\n",
        "Try different kernels `GPy.kern.` in the Gaussian Process regression."
      ]
    },
    {
      "cell_type": "code",
      "execution_count": null,
      "metadata": {
        "nbgrader": {
          "grade": true,
          "grade_id": "cell-d82eaef8b9dc228d",
          "locked": false,
          "points": 0,
          "schema_version": 3,
          "solution": true,
          "task": false
        },
        "id": "C7Sugl9hNG2F"
      },
      "outputs": [],
      "source": [
        "# YOUR ANSWER HERE"
      ]
    },
    {
      "cell_type": "markdown",
      "metadata": {
        "nbgrader": {
          "grade": false,
          "grade_id": "cell-3eeaf2b2a8e5170b",
          "locked": true,
          "schema_version": 3,
          "solution": false,
          "task": false
        },
        "id": "OvFWZWm0NG2F"
      },
      "source": [
        "## Part 2\n",
        "### Inferring a pair interaction model based on total energy information\n",
        "\n",
        "For certain types of atomic systems, the total, inherently many-body interaction energy may be approximated by pair interaction terms: $E(\\mathbf{r}_1, \\mathbf{r}_2, \\ldots \\mathbf{r}_N) \\approx \\sum^N_{i<j} E_2(r_{ij})$, where the system consists of $N$ atoms with Cartesian coordinates $\\mathbf{r}_1, \\mathbf{r}_2, \\ldots \\mathbf{r}_N$. $E_2$ is a function of interatomic distances $r_{ij}$. Example where this works well are noble gases or certain types of metals.\n",
        "\n",
        "In this part of the workshop, we will study a toy problem, where the total interaction energy consists explicitly of two-body terms, and the aim of the workshop is to recover the original model. We will use configurations of clusters of 12-19 atoms, and the interaction energy (the underlying function we are trying to fit) will be the Lennard-Jones model for the total energy\n",
        "\n",
        "$$\n",
        "E_2^{LJ}(r_{ij}) = 4\\left(\\frac1{r_{ij}^{12}} - \\frac1{r_{ij}^6} \\right)\n",
        "$$"
      ]
    },
    {
      "cell_type": "code",
      "execution_count": null,
      "metadata": {
        "id": "-Sz49yfcNG2G"
      },
      "outputs": [],
      "source": [
        "# We load the cluster configurations\n",
        "cluster_trajectory = read(\"clusters.xyz\", index=\":\")"
      ]
    },
    {
      "cell_type": "code",
      "execution_count": null,
      "metadata": {
        "id": "BJNC0DKBNG2G"
      },
      "outputs": [],
      "source": [
        "# optional\n",
        "nglview.show_asetraj(cluster_trajectory)"
      ]
    },
    {
      "cell_type": "code",
      "execution_count": null,
      "metadata": {
        "id": "1XQP8Bc-NG2G"
      },
      "outputs": [],
      "source": [
        "# For each cluster, we calculate the total energy and collect it in cluster_energy\n",
        "from ase.calculators.lj import LennardJones\n",
        "p = LennardJones()\n",
        "\n",
        "cluster_energy = []\n",
        "for a in cluster_trajectory:\n",
        "    a.set_calculator(p)\n",
        "    cluster_energy.append(a.get_potential_energy())"
      ]
    },
    {
      "cell_type": "code",
      "execution_count": null,
      "metadata": {
        "id": "SvZx2xRjNG2G"
      },
      "outputs": [],
      "source": [
        "# We split the data in train and test set.\n",
        "# You may adjust the ratio by varying \"test_size\".\n",
        "\n",
        "from sklearn.model_selection import train_test_split\n",
        "\n",
        "cluster_train, cluster_test, cluster_energy_train, cluster_energy_test = train_test_split(\n",
        "    cluster_trajectory, cluster_energy, test_size=0.4)"
      ]
    },
    {
      "cell_type": "markdown",
      "metadata": {
        "nbgrader": {
          "grade": false,
          "grade_id": "cell-e8768a59593973d9",
          "locked": true,
          "schema_version": 3,
          "solution": false,
          "task": false
        },
        "id": "28lWfSfsNG2G"
      },
      "source": [
        "The model we use for the total energy is\n",
        "\n",
        "$$E = \\sum_{i<j} {\\mathcal GP}(r_{ij}).$$\n",
        "\n",
        "To fit the GP, we need to obtain all pair-wise distances in each configuration."
      ]
    },
    {
      "cell_type": "code",
      "execution_count": null,
      "metadata": {
        "id": "T7WTcFRFNG2G"
      },
      "outputs": [],
      "source": [
        "from ase.neighborlist import neighbor_list\n",
        "\n",
        "def get_distances(atoms_array,cutoff=3.0):\n",
        "    distances = []\n",
        "    for a in atoms_array:\n",
        "        i, j, d = neighbor_list('ijd', a, cutoff)\n",
        "        d = d[i < j]  # We exclude duplicates\n",
        "        distances.append(d)\n",
        "    return distances # List of list of distances"
      ]
    },
    {
      "cell_type": "code",
      "execution_count": null,
      "metadata": {
        "id": "sUbvLQA8NG2G"
      },
      "outputs": [],
      "source": [
        "distances_train = get_distances(cluster_train)\n",
        "distances_test ="
      ]
    },
    {
      "cell_type": "markdown",
      "metadata": {
        "nbgrader": {
          "grade": false,
          "grade_id": "cell-f2ae07101f4f3709",
          "locked": true,
          "schema_version": 3,
          "solution": false,
          "task": false
        },
        "id": "51-BejjXNG2G"
      },
      "source": [
        "The target data is the sum of Gaussian Process models. We need to find the covariance of total energies: if the covariance of two pair interactions terms is $k(r,r')$, the covariance of two total energies of two configurations $A$ and $B$ is the sum of covariance functions:\n",
        "\n",
        "$$\\langle E_A E_B \\rangle = \\sum_{ij \\in A, i'j' \\in B} k(r_{ij},r_{i'j'})$$\n",
        "\n",
        "The following class implements this idea."
      ]
    },
    {
      "cell_type": "code",
      "execution_count": null,
      "metadata": {
        "code_folding": [],
        "id": "p-dHtkSENG2G"
      },
      "outputs": [],
      "source": [
        "from scipy.spatial.distance import cdist\n",
        "\n",
        "class SumGP:\n",
        "    \"\"\"Class implementing a sum Gaussian Process\"\"\"\n",
        "\n",
        "    def __init__(self, length_scale=1.0, function_range=1.0, error=0.1):\n",
        "        \"\"\"Initialise the class with the GP hyperparameters\"\"\"\n",
        "        self.length_scale = length_scale\n",
        "        self.function_range = function_range\n",
        "        self.error = error\n",
        "\n",
        "    def update_covariance(self):\n",
        "        \"\"\"Update the covariance matrix\"\"\"\n",
        "        self.covariance = self.sum_covariance(self.training_data,self.training_data)\n",
        "        self.covariance += np.eye(len(self.covariance))*self.error**2\n",
        "\n",
        "    def update_weights(self):\n",
        "        \"\"\"Update the GP model weights\"\"\"\n",
        "        self.weights = np.linalg.solve(self.covariance,self.training_target)\n",
        "\n",
        "    def update_gp(self):\n",
        "        \"\"\"Update the covariance and the GP model weights\"\"\"\n",
        "        self.update_covariance()\n",
        "        self.update_weights()\n",
        "\n",
        "    def set_training_data(self,distances,energies):\n",
        "        \"\"\"Add training data and perform the fit\"\"\"\n",
        "        self.training_data = distances\n",
        "        self.training_target = energies\n",
        "        self.update_gp()\n",
        "\n",
        "    def set_parameters(self,length_scale=None,function_range=None,error=None):\n",
        "        \"\"\"Update GP hyperparameters\"\"\"\n",
        "        changed = False\n",
        "        if length_scale is not None:\n",
        "            self.length_scale = length_scale\n",
        "            changed = True\n",
        "        if function_range is not None:\n",
        "            self.function_range = function_range\n",
        "            changed = True\n",
        "        if error is not None:\n",
        "            self.error = error\n",
        "            changed = True\n",
        "        if changed:\n",
        "            self.update_gp()\n",
        "\n",
        "    def predict(self,distances, do_variance=False, do_covariance=False):\n",
        "        \"\"\"\n",
        "        Predicts total energy for a set of pairwise distances,\n",
        "        optionally with variances\n",
        "        \"\"\"\n",
        "        k = self.sum_covariance(distances,self.training_data)\n",
        "        mean = np.dot(k,self.weights)\n",
        "        res = {\"mean\":mean}\n",
        "        if do_variance:\n",
        "            variance = []\n",
        "            for _d,_k in zip(distances,k):\n",
        "                variance.append(self.error**2+\n",
        "                    self.sum_covariance([_d],[_d])[0,0] -\n",
        "                           np.dot(_k, np.linalg.solve(self.covariance,_k))\n",
        "                )\n",
        "            res[\"variance\"] = variance\n",
        "\n",
        "        if do_covariance:\n",
        "            covariance = self.sum_covariance(distances,distances)\n",
        "            res[\"covariance\"] = ( np.eye(len(distances))*self.error**2 +\n",
        "                                 covariance - np.dot(k,np.linalg.solve(self.covariance,k.T)) )\n",
        "\n",
        "        return res\n",
        "\n",
        "    def sum_covariance(self, d1, d2):\n",
        "        \"\"\"Sum covariance function\"\"\"\n",
        "        covariance = []\n",
        "        for i, _d1 in enumerate(d1):\n",
        "            _c_row = []\n",
        "            for j, _d2 in enumerate(d2):\n",
        "                distance_matrix = cdist(\n",
        "                    np.array(_d1)[:,None],\n",
        "                    np.array(_d2)[:,None],\n",
        "                    'euclidean')\n",
        "\n",
        "                _c = np.sum(self.function_range**2*np.exp(\n",
        "                            -0.5*distance_matrix**2/self.length_scale**2))\n",
        "                _c_row.append(_c)\n",
        "            covariance.append(_c_row)\n",
        "        covariance = np.array(covariance)\n",
        "        return covariance\n"
      ]
    },
    {
      "cell_type": "markdown",
      "metadata": {
        "nbgrader": {
          "grade": false,
          "grade_id": "cell-bb4d8a8eac70c4a2",
          "locked": true,
          "schema_version": 3,
          "solution": false,
          "task": false
        },
        "id": "f-3J2O0JNG2H"
      },
      "source": [
        "We now use this class to build a Gaussian Process regression model"
      ]
    },
    {
      "cell_type": "code",
      "execution_count": null,
      "metadata": {
        "id": "y4pGrap3NG2H"
      },
      "outputs": [],
      "source": [
        "# Initialise the GP with hyperparameters\n",
        "sum_gp = SumGP(length_scale=0.25, error=0.5, function_range=5.0)"
      ]
    },
    {
      "cell_type": "code",
      "execution_count": null,
      "metadata": {
        "id": "G2b3BvlUNG2H"
      },
      "outputs": [],
      "source": [
        "# Add data and fit the model\n",
        "sum_gp.set_training_data(distances_train,cluster_energy_train)"
      ]
    },
    {
      "cell_type": "markdown",
      "metadata": {
        "nbgrader": {
          "grade": false,
          "grade_id": "cell-3a9ddec6e2080df2",
          "locked": true,
          "schema_version": 3,
          "solution": false,
          "task": false
        },
        "id": "8O9SKoH9NG2H"
      },
      "source": [
        "### Optimising the hyperparameters\n",
        "To find the optimal hyperparameters (`length_scale`, `error` and `function_range`) we can try maximising the likelihood of the model:\n",
        "\n",
        "$$\n",
        "\\log L = -\\frac{1}{2} \\mathbf{y}^T \\mathbf{K}^{-1} \\mathbf{y} - \\frac{1}{2} \\log |\\mathbf{K}| - \\frac{n}{2} \\log 2 \\pi$$\n",
        "\n",
        "Remember, the two main components of this expression balance the goodness of the fit (first term) and the complexity of the model (second term).\n",
        "\n",
        "### Question 5.a\n",
        "\n",
        "Implement a log likelihood function for the `SumGP` class using the template provided below. Use the numpy function [np.linalg.slogdet](https://docs.scipy.org/doc/numpy/reference/generated/numpy.linalg.slogdet.html) to compute the log of the determinent of the covariance matrix. For the first term of the log likelihood expression, notice that $\\mathbf{K}^{-1} \\mathbf{y} = \\mathbf{w}$, the fitted weights of the model, stored as `self.weights` in the `SumGP` class. [10 marks]\n"
      ]
    },
    {
      "cell_type": "code",
      "execution_count": null,
      "metadata": {
        "nbgrader": {
          "grade": true,
          "grade_id": "cell-09fb5482338e98b8",
          "locked": false,
          "points": 10,
          "schema_version": 3,
          "solution": true,
          "task": false
        },
        "id": "flLiO0UCNG2H"
      },
      "outputs": [],
      "source": [
        "def get_likelihood(self):\n",
        "    \"\"\"Calculate GP likelihood\"\"\"\n",
        "\n",
        "    res = 0.0\n",
        "    ### BEGIN SOLUTION\n",
        "    ### END SOLUTION\n",
        "\n",
        "    return res\n",
        "\n",
        "SumGP.get_likelihood = get_likelihood"
      ]
    },
    {
      "cell_type": "markdown",
      "metadata": {
        "id": "OG5U0ZGdNG2H"
      },
      "source": [
        "### Question 5.b\n",
        "\n",
        "Compute the log likelihood as a function of the `length_scale` hyperparameter. Plot the results, and determine the optimal parameter, given the other two hyperparameters remain fixed. [10 marks]"
      ]
    },
    {
      "cell_type": "code",
      "execution_count": null,
      "metadata": {
        "nbgrader": {
          "grade": true,
          "grade_id": "cell-d5bc30f0c6902ed0",
          "locked": false,
          "points": 10,
          "schema_version": 3,
          "solution": true,
          "task": false
        },
        "id": "uasiADybNG2H"
      },
      "outputs": [],
      "source": [
        "sum_gp =\n",
        "# Add data and fit the model\n",
        "\n",
        "length_scale_array = # np.linspace()\n",
        "likelihood_array = []\n",
        "for _l in length_scale_array:\n",
        "    sum_gp.set_parameters(length_scale=_l)\n",
        "    likelihood_array.append(sum_gp.get_likelihood())\n",
        "\n",
        "plt.plot()\n",
        "plt.xlabel('Length scale')\n",
        "plt.ylabel('Log likelihood');"
      ]
    },
    {
      "cell_type": "markdown",
      "metadata": {
        "nbgrader": {
          "grade": false,
          "grade_id": "cell-77f1a920c0092db4",
          "locked": true,
          "schema_version": 3,
          "solution": false,
          "task": false
        },
        "id": "2ZksF87rNG2H"
      },
      "source": [
        "### Question 6.a\n",
        "\n",
        "Set the `length_scale` hyperparameter to the optimal value you found above, and plot the two-body interatomic potential model as a function of interatomic distances, with error bars, and compare it with the known solution, the Lennard-Jones model. You need to set the range of distances where you want to inspect the model - start from short distances and go beyond the cutoff (3.0) we used. [10 marks]\n",
        "\n",
        "Here is some sample code to do predictions to get you started\n",
        "\n",
        "```python\n",
        "# Predict pair interaction energies using the GP model\n",
        "r_min = ...\n",
        "r_max = ...\n",
        "r_test = np.linspace(r_min,r_max)[:,None]\n",
        "test_gp = sum_gp.predict(r_test,do_variance=True,do_covariance=True)\n",
        "e_test_gp = test_gp[\"mean\"]\n",
        "v_test_gp = test_gp[\"variance\"]\n",
        "c_test_gp = test_gp[\"covariance\"]\n",
        "```\n"
      ]
    },
    {
      "cell_type": "code",
      "execution_count": null,
      "metadata": {
        "nbgrader": {
          "grade": true,
          "grade_id": "cell-5f19d3acca286b61",
          "locked": false,
          "points": 10,
          "schema_version": 3,
          "solution": true,
          "task": false
        },
        "id": "UccM9HIZNG2H"
      },
      "outputs": [],
      "source": [
        "sum_gp.set_parameters(length_scale=)\n",
        "\n",
        "# Lennard-Jones model - the target of the GP model\n",
        "e_test_lj = # function of r_test\n",
        "\n",
        "# Predict pair interaction energies using the GP model\n",
        "test_gp = sum_gp.predict(r_test,do_variance=True,do_covariance=True)\n",
        "e_test_gp = test_gp[\"mean\"]\n",
        "v_test_gp = test_gp[\"variance\"]\n",
        "c_test_gp = test_gp[\"covariance\"]\n",
        "\n",
        "# Plot the results\n",
        "plt.plot(r_test,e_test_lj)\n",
        "plt.errorbar(r_test,e_test_gp,yerr=np.sqrt(v_test_gp))\n",
        "plt.ylim([-1.2,4])\n",
        "plt.xlabel('Distance $r_{ij}$')\n",
        "plt.ylabel('Energy / eV')"
      ]
    },
    {
      "cell_type": "markdown",
      "metadata": {
        "id": "ms_TMNRONG2H"
      },
      "source": [
        "### Question 6.b\n",
        "\n",
        "Inspect the predicted error. Identify the domains where the predicted error is large - what is the reason for this? [10 marks]"
      ]
    },
    {
      "cell_type": "markdown",
      "metadata": {
        "nbgrader": {
          "grade": false,
          "grade_id": "cell-e742c8decc5b3a46",
          "locked": true,
          "points": 10,
          "schema_version": 3,
          "solution": false,
          "task": true
        },
        "id": "Nqs6umyoNG2I"
      },
      "source": [
        "YOUR ANSWER HERE"
      ]
    },
    {
      "cell_type": "markdown",
      "metadata": {
        "nbgrader": {
          "grade": false,
          "grade_id": "cell-c410a5aae7969a0d",
          "locked": true,
          "schema_version": 3,
          "solution": false,
          "task": false
        },
        "id": "WJKRbhmwNG2I"
      },
      "source": [
        "### Question 6.c\n",
        "\n",
        "In the code cell below, using the `np.random.multivariate_normal` function (as seen in the lecture), with `test_gp[\"mean\"]` as the mean and `test_gp[\"covariance\"]` as the covariance, where `test_gp` is the result of calling `sum_gp.predict()`), draw samples from the posterior. Plot the results together with the known target function (Lennard-Jones pairwise interactions). Looking at these samples, how appropriate is our prior (squared exponential kernel)? Which feature of the Lennard-Jones model is causing problems? [5 marks code + 5 marks discussion]"
      ]
    },
    {
      "cell_type": "code",
      "execution_count": null,
      "metadata": {
        "nbgrader": {
          "grade": true,
          "grade_id": "cell-565f12e6502c715f",
          "locked": false,
          "points": 5,
          "schema_version": 3,
          "solution": true,
          "task": false
        },
        "id": "tcsAGNU_NG2I"
      },
      "outputs": [],
      "source": [
        "N_sample = 5\n",
        "\n",
        "for i in range(N_sample):\n",
        "    s_test_gp = # np.random.multivariate_normal()\n",
        "    plt.plot(r_test, s_test_gp, 'r--')\n",
        "plt.plot(r_test,e_test_lj,\"k-\")\n",
        "plt.ylim([-1.2,4])\n",
        "plt.show()"
      ]
    },
    {
      "cell_type": "markdown",
      "metadata": {
        "nbgrader": {
          "grade": true,
          "grade_id": "cell-812b5ff91b18962b",
          "locked": false,
          "points": 5,
          "schema_version": 3,
          "solution": true,
          "task": false
        },
        "id": "b5_Q8xsKNG2I"
      },
      "source": [
        "YOUR ANSWER HERE"
      ]
    },
    {
      "cell_type": "markdown",
      "metadata": {
        "nbgrader": {
          "grade": false,
          "grade_id": "cell-f026710554e4f666",
          "locked": true,
          "schema_version": 3,
          "solution": false,
          "task": false
        },
        "id": "p8C_6NfXNG2I"
      },
      "source": [
        "### Question 7\n",
        "\n",
        "Adapt the code used above to predict GP energies (i.e., using `sum_gp.predict()`), evaluate the GP model on the test set `distances_test` we generated by splitting the original data set. Plot the correlation of the target energy and the prediction, with error bars. [5 marks]"
      ]
    },
    {
      "cell_type": "code",
      "execution_count": null,
      "metadata": {
        "nbgrader": {
          "grade": true,
          "grade_id": "cell-61e8427026eead65",
          "locked": false,
          "points": 5,
          "schema_version": 3,
          "solution": true,
          "task": false
        },
        "id": "VlHQrpp6NG2I"
      },
      "outputs": [],
      "source": [
        "cluster_gp = sum_gp.predict(distances_test, do_variance=True)\n",
        "cluster_energy_predict =\n",
        "cluster_energy_variance =\n",
        "\n",
        "plt.errorbar(cluster_energy_test, cluster_energy_predict,\n",
        "             yerr=np.sqrt(cluster_energy_variance),fmt=\".\")\n",
        "plt.xlabel('True energy / eV')\n",
        "plt.ylabel('Predicted energy / eV');"
      ]
    },
    {
      "cell_type": "markdown",
      "metadata": {
        "nbgrader": {
          "grade": false,
          "grade_id": "cell-21f361e0d3889f8a",
          "locked": true,
          "schema_version": 3,
          "solution": false,
          "task": false
        },
        "id": "Du708POuNG2I"
      },
      "source": [
        "### Extension  question (not assessed)\n",
        "\n",
        "Instead of the squared exponential kernel, implement another kernel (e.g. the exponential kernel $k(r,r') = \\exp ( |r-r'| / l)$ or any other) in the `SumGP` class. Does it represent a better prior than the squared exponential kernel?"
      ]
    },
    {
      "cell_type": "code",
      "execution_count": null,
      "metadata": {
        "nbgrader": {
          "grade": true,
          "grade_id": "cell-5336ac29a70a74b5",
          "locked": false,
          "points": 0,
          "schema_version": 3,
          "solution": true,
          "task": false
        },
        "id": "dlQA0L_-NG2I"
      },
      "outputs": [],
      "source": []
    }
  ],
  "metadata": {
    "celltoolbar": "Create Assignment",
    "kernelspec": {
      "display_name": "Python 3 (ipykernel)",
      "language": "python",
      "name": "python3"
    },
    "language_info": {
      "codemirror_mode": {
        "name": "ipython",
        "version": 3
      },
      "file_extension": ".py",
      "mimetype": "text/x-python",
      "name": "python",
      "nbconvert_exporter": "python",
      "pygments_lexer": "ipython3",
      "version": "3.11.3"
    },
    "colab": {
      "provenance": [],
      "include_colab_link": true
    },
    "widgets": {
      "application/vnd.jupyter.widget-state+json": {
        "6e3c47b17ad54a70ae727de294793d94": {
          "model_module": "nglview-js-widgets",
          "model_name": "ColormakerRegistryModel",
          "model_module_version": "3.0.7",
          "state": {
            "_dom_classes": [],
            "_model_module": "nglview-js-widgets",
            "_model_module_version": "3.0.7",
            "_model_name": "ColormakerRegistryModel",
            "_msg_ar": [],
            "_msg_q": [],
            "_ready": false,
            "_view_count": null,
            "_view_module": "nglview-js-widgets",
            "_view_module_version": "3.0.7",
            "_view_name": "ColormakerRegistryView",
            "layout": "IPY_MODEL_3c6ad43940684414b25d7c1af4108f05"
          }
        },
        "2b04af665ae040149b5028f0a546b9e2": {
          "model_module": "nglview-js-widgets",
          "model_name": "NGLModel",
          "model_module_version": "3.0.7",
          "state": {
            "_camera_orientation": [],
            "_camera_str": "orthographic",
            "_dom_classes": [],
            "_gui_theme": null,
            "_ibtn_fullscreen": "IPY_MODEL_f3fb9e48730a49d0b7905be4db551c4d",
            "_igui": null,
            "_iplayer": "IPY_MODEL_2cc50cc79c274cb78e05384b7031d87b",
            "_model_module": "nglview-js-widgets",
            "_model_module_version": "3.0.7",
            "_model_name": "NGLModel",
            "_ngl_color_dict": {},
            "_ngl_coordinate_resource": {},
            "_ngl_full_stage_parameters": {},
            "_ngl_msg_archive": [
              {
                "target": "Stage",
                "type": "call_method",
                "methodName": "loadFile",
                "reconstruc_color_scheme": false,
                "args": [
                  {
                    "type": "blob",
                    "data": "CRYST1   30.000   30.000   30.000  90.00  90.00  90.00 P 1\nMODEL     1\nATOM      1    O MOL     1       0.000   0.000   0.000  1.00  0.00           O  \nATOM      2    H MOL     1       0.600   0.000   0.000  1.00  0.00           H  \nATOM      3    H MOL     1      -0.045   0.598   0.000  1.00  0.00           H  \nENDMDL\n",
                    "binary": false
                  }
                ],
                "kwargs": {
                  "name": "nglview.adaptor.ASETrajectory",
                  "defaultRepresentation": true,
                  "ext": "pdb"
                }
              }
            ],
            "_ngl_original_stage_parameters": {},
            "_ngl_repr_dict": {},
            "_ngl_serialize": false,
            "_ngl_version": "",
            "_ngl_view_id": [],
            "_player_dict": {},
            "_scene_position": {},
            "_scene_rotation": {},
            "_synced_model_ids": [],
            "_synced_repr_model_ids": [],
            "_view_count": null,
            "_view_height": "",
            "_view_module": "nglview-js-widgets",
            "_view_module_version": "3.0.7",
            "_view_name": "NGLView",
            "_view_width": "",
            "background": "white",
            "frame": 0,
            "gui_style": null,
            "layout": "IPY_MODEL_82b68a00e945467993d27659469f637b",
            "max_frame": 2885,
            "n_components": 0,
            "picked": {}
          }
        },
        "3ae453b655d5478bb186c1291f10ee4b": {
          "model_module": "@jupyter-widgets/controls",
          "model_name": "PlayModel",
          "model_module_version": "1.5.0",
          "state": {
            "_dom_classes": [],
            "_model_module": "@jupyter-widgets/controls",
            "_model_module_version": "1.5.0",
            "_model_name": "PlayModel",
            "_playing": false,
            "_repeat": false,
            "_view_count": null,
            "_view_module": "@jupyter-widgets/controls",
            "_view_module_version": "1.5.0",
            "_view_name": "PlayView",
            "description": "",
            "description_tooltip": null,
            "disabled": false,
            "interval": 100,
            "layout": "IPY_MODEL_37c224879be6414f83ced26486f345c5",
            "max": 2885,
            "min": 0,
            "show_repeat": true,
            "step": 1,
            "style": "IPY_MODEL_7bb59d9f0daa47cea6a0756a9ff57ed8",
            "value": 0
          }
        },
        "72993789f3bd49c79e7b9576d7f4d96f": {
          "model_module": "@jupyter-widgets/controls",
          "model_name": "IntSliderModel",
          "model_module_version": "1.5.0",
          "state": {
            "_dom_classes": [],
            "_model_module": "@jupyter-widgets/controls",
            "_model_module_version": "1.5.0",
            "_model_name": "IntSliderModel",
            "_view_count": null,
            "_view_module": "@jupyter-widgets/controls",
            "_view_module_version": "1.5.0",
            "_view_name": "IntSliderView",
            "continuous_update": true,
            "description": "",
            "description_tooltip": null,
            "disabled": false,
            "layout": "IPY_MODEL_95ad44a5d0cd4fb2a457253046d179d3",
            "max": 2885,
            "min": 0,
            "orientation": "horizontal",
            "readout": true,
            "readout_format": "d",
            "step": 1,
            "style": "IPY_MODEL_93896ceb3dbe420d87f0d16f98456a8e",
            "value": 0
          }
        },
        "37c224879be6414f83ced26486f345c5": {
          "model_module": "@jupyter-widgets/base",
          "model_name": "LayoutModel",
          "model_module_version": "1.2.0",
          "state": {
            "_model_module": "@jupyter-widgets/base",
            "_model_module_version": "1.2.0",
            "_model_name": "LayoutModel",
            "_view_count": null,
            "_view_module": "@jupyter-widgets/base",
            "_view_module_version": "1.2.0",
            "_view_name": "LayoutView",
            "align_content": null,
            "align_items": null,
            "align_self": null,
            "border": null,
            "bottom": null,
            "display": null,
            "flex": null,
            "flex_flow": null,
            "grid_area": null,
            "grid_auto_columns": null,
            "grid_auto_flow": null,
            "grid_auto_rows": null,
            "grid_column": null,
            "grid_gap": null,
            "grid_row": null,
            "grid_template_areas": null,
            "grid_template_columns": null,
            "grid_template_rows": null,
            "height": null,
            "justify_content": null,
            "justify_items": null,
            "left": null,
            "margin": null,
            "max_height": null,
            "max_width": null,
            "min_height": null,
            "min_width": null,
            "object_fit": null,
            "object_position": null,
            "order": null,
            "overflow": null,
            "overflow_x": null,
            "overflow_y": null,
            "padding": null,
            "right": null,
            "top": null,
            "visibility": null,
            "width": null
          }
        },
        "7bb59d9f0daa47cea6a0756a9ff57ed8": {
          "model_module": "@jupyter-widgets/controls",
          "model_name": "DescriptionStyleModel",
          "model_module_version": "1.5.0",
          "state": {
            "_model_module": "@jupyter-widgets/controls",
            "_model_module_version": "1.5.0",
            "_model_name": "DescriptionStyleModel",
            "_view_count": null,
            "_view_module": "@jupyter-widgets/base",
            "_view_module_version": "1.2.0",
            "_view_name": "StyleView",
            "description_width": ""
          }
        },
        "95ad44a5d0cd4fb2a457253046d179d3": {
          "model_module": "@jupyter-widgets/base",
          "model_name": "LayoutModel",
          "model_module_version": "1.2.0",
          "state": {
            "_model_module": "@jupyter-widgets/base",
            "_model_module_version": "1.2.0",
            "_model_name": "LayoutModel",
            "_view_count": null,
            "_view_module": "@jupyter-widgets/base",
            "_view_module_version": "1.2.0",
            "_view_name": "LayoutView",
            "align_content": null,
            "align_items": null,
            "align_self": null,
            "border": null,
            "bottom": null,
            "display": null,
            "flex": null,
            "flex_flow": null,
            "grid_area": null,
            "grid_auto_columns": null,
            "grid_auto_flow": null,
            "grid_auto_rows": null,
            "grid_column": null,
            "grid_gap": null,
            "grid_row": null,
            "grid_template_areas": null,
            "grid_template_columns": null,
            "grid_template_rows": null,
            "height": null,
            "justify_content": null,
            "justify_items": null,
            "left": null,
            "margin": null,
            "max_height": null,
            "max_width": null,
            "min_height": null,
            "min_width": null,
            "object_fit": null,
            "object_position": null,
            "order": null,
            "overflow": null,
            "overflow_x": null,
            "overflow_y": null,
            "padding": null,
            "right": null,
            "top": null,
            "visibility": null,
            "width": null
          }
        },
        "93896ceb3dbe420d87f0d16f98456a8e": {
          "model_module": "@jupyter-widgets/controls",
          "model_name": "SliderStyleModel",
          "model_module_version": "1.5.0",
          "state": {
            "_model_module": "@jupyter-widgets/controls",
            "_model_module_version": "1.5.0",
            "_model_name": "SliderStyleModel",
            "_view_count": null,
            "_view_module": "@jupyter-widgets/base",
            "_view_module_version": "1.2.0",
            "_view_name": "StyleView",
            "description_width": "",
            "handle_color": null
          }
        }
      }
    }
  },
  "nbformat": 4,
  "nbformat_minor": 0
}